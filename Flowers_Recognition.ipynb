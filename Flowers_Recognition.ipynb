{
  "nbformat": 4,
  "nbformat_minor": 0,
  "metadata": {
    "colab": {
      "provenance": []
    },
    "kernelspec": {
      "name": "python3",
      "display_name": "Python 3"
    },
    "accelerator": "GPU"
  },
  "cells": [
    {
      "cell_type": "code",
      "metadata": {
        "id": "mdS1JM8emr-6",
        "outputId": "4eb9fef9-8286-44dd-9d13-6d9655f2250e",
        "colab": {
          "base_uri": "https://localhost:8080/",
          "height": 34
        }
      },
      "source": [
        "!ls"
      ],
      "execution_count": null,
      "outputs": [
        {
          "output_type": "stream",
          "text": [
            "sample_data\n"
          ],
          "name": "stdout"
        }
      ]
    },
    {
      "cell_type": "code",
      "metadata": {
        "id": "ymEnq3r6m110",
        "outputId": "0326bad4-ab5e-4c96-f0d5-90a82c3a88a4",
        "colab": {
          "base_uri": "https://localhost:8080/",
          "height": 34
        }
      },
      "source": [
        "import tensorflow as tf\n",
        "device_name = tf.test.gpu_device_name()\n",
        "if device_name != '/device:GPU:0':\n",
        "  raise SystemError('GPU device not found')\n",
        "print('Found GPU at: {}'.format(device_name))"
      ],
      "execution_count": null,
      "outputs": [
        {
          "output_type": "stream",
          "text": [
            "Found GPU at: /device:GPU:0\n"
          ],
          "name": "stdout"
        }
      ]
    },
    {
      "cell_type": "code",
      "metadata": {
        "id": "SkZ2JciFp94E",
        "outputId": "5511881b-2098-4e1c-b0b0-43edcdee2456",
        "colab": {
          "base_uri": "https://localhost:8080/",
          "height": 34
        }
      },
      "source": [
        "!wget -qq https://www.dropbox.com/s/vj61417lofjebju/utils.zip\n",
        "!wget -qq https://www.dropbox.com/s/pcv5wpk0ybsohib/flowers.zip\n",
        "\n",
        "\n",
        "!unzip -qq flowers.zip\n",
        "!rm flowers.zip\n",
        "\n",
        "!unzip -qq utils.zip\n",
        "!rm utils.zip\n",
        "\n",
        "\n",
        "!ls"
      ],
      "execution_count": null,
      "outputs": [
        {
          "output_type": "stream",
          "text": [
            "flowers  gdrive.py  __MACOSX  sample_data  sutils.py\n"
          ],
          "name": "stdout"
        }
      ]
    },
    {
      "cell_type": "code",
      "metadata": {
        "id": "iEMgNToczRuD",
        "outputId": "130b4f0b-428b-4e9b-c524-cce8ce004c94",
        "colab": {
          "base_uri": "https://localhost:8080/",
          "height": 34
        }
      },
      "source": [
        "!ls flowers"
      ],
      "execution_count": null,
      "outputs": [
        {
          "output_type": "stream",
          "text": [
            "daisy  dandelion  rose\tsunflower  tulip\n"
          ],
          "name": "stdout"
        }
      ]
    },
    {
      "cell_type": "markdown",
      "metadata": {
        "id": "_Di9_-8vEeHm"
      },
      "source": []
    },
    {
      "cell_type": "code",
      "metadata": {
        "id": "tVbuq3jzzTza",
        "outputId": "5f2ce97a-a14f-4dc8-864b-52eb46fe52c9",
        "colab": {
          "base_uri": "https://localhost:8080/",
          "height": 6523
        }
      },
      "source": [
        "!ls flowers/rose"
      ],
      "execution_count": null,
      "outputs": [
        {
          "output_type": "stream",
          "text": [
            "10090824183_d02c613f10_m.jpg  4612833069_8e48b47aa4_n.jpg\n",
            "102501987_3cdb8e5394_n.jpg    4625089819_55c45a189c.jpg\n",
            "10503217854_e66a804309.jpg    4644336779_acd973528c.jpg\n",
            "10894627425_ec76bbc757_n.jpg  4648680921_80dfc4f12a.jpg\n",
            "110472418_87b6a3aa98_m.jpg    4654893119_45d232016b.jpg\n",
            "11102341464_508d558dfc_n.jpg  466486216_ab13b55763.jpg\n",
            "11233672494_d8bf0a3dbf_n.jpg  4675532860_890504a4a3_m.jpg\n",
            "11694025703_9a906fedc1_n.jpg  4684127262_6c3346188d.jpg\n",
            "118974357_0faa23cce9_n.jpg    4694341873_65fe187a4e_n.jpg\n",
            "11944957684_2cc806276e.jpg    4702438868_278b9cf41c_n.jpg\n",
            "12202373204_34fb07205b.jpg    4703837996_d3c1df77cc_n.jpg\n",
            "12238827553_cf427bfd51_n.jpg  4713531680_1110a2fa07_n.jpg\n",
            "12240165555_98625b1e88_n.jpg  4713533500_fcc295de70_n.jpg\n",
            "12240303_80d87f77a3_n.jpg     4735314389_94fe1b2a9f_n.jpg\n",
            "12240577184_b0de0e53ea_n.jpg  4754734410_94d98463a5.jpg\n",
            "12243068283_ee4c2683e2_n.jpg  475947979_554062a608_m.jpg\n",
            "12243069253_e512464095_n.jpg  4764674741_82b8f93359_n.jpg\n",
            "123128873_546b8b7355_n.jpg    4765063233_f64440c20b.jpg\n",
            "12338444334_72fcc2fc58_m.jpg  4797595918_79887b1229_n.jpg\n",
            "12395698413_c0388278f7.jpg    4809566219_88f9a1aea3.jpg\n",
            "12406229175_82e2ac649c_n.jpg  483444865_65962cea07_m.jpg\n",
            "12406418663_af20dc225f_n.jpg  4860145119_b1c3cbaa4e_n.jpg\n",
            "12407768513_3440238148_n.jpg  488849503_63a290a8c2_m.jpg\n",
            "12434194695_a7c4e73c6b_n.jpg  4900231976_f8ced2b42a_n.jpg\n",
            "12562723334_a2e0a9e3c8_n.jpg  4910094611_8c7170fc95_n.jpg\n",
            "12572786553_634868f7f2_n.jpg  4918137796_21f0922b0c_n.jpg\n",
            "13211873833_82b029c8a1_n.jpg  4921988677_e2eb0c9a24_m.jpg\n",
            "13231224664_4af5293a37.jpg    494803274_f84f21d53a.jpg\n",
            "13264214185_d6aa79b3bd.jpg    4951581805_b049304f1b_n.jpg\n",
            "13279526615_a3b0059bec.jpg    4979895172_ca06eba616.jpg\n",
            "13342823005_16d3df58df_n.jpg  4998708839_c53ee536a8_n.jpg\n",
            "1392579828_ab5a139052.jpg     5001843267_ccc0aa7d4d_n.jpg\n",
            "13929462317_96342a9a44.jpg    5001843683_ac3e5f2c87_n.jpg\n",
            "13943843842_36aae2e7f5_n.jpg  5001844187_0a77b2eed6_n.jpg\n",
            "13979889721_42a59ca9fa_m.jpg  5001844777_d9e1968119_n.jpg\n",
            "14001990976_bd2da42dbc.jpg    5001845055_69f04d9779_n.jpg\n",
            "14019883858_e5d2a0ec10_n.jpg  5001845289_e5740889b0_n.jpg\n",
            "1402130395_0b89d76029.jpg     5001846301_9380fbe900_n.jpg\n",
            "14127110749_624f5bfde6_n.jpg  5001846495_56068de2da_n.jpg\n",
            "14145188939_b4de638bd3_n.jpg  5001846725_7bb1b9fedf_n.jpg\n",
            "14154164774_3b39d36778.jpg    5001846963_595da3a5a3_n.jpg\n",
            "14166797345_d2ab9da518.jpg    5001847439_83e02981e8_n.jpg\n",
            "14172324538_2147808483_n.jpg  5001847693_77a9fb4f3c_n.jpg\n",
            "14176042519_5792b37555.jpg    5001848135_63300a26a8_n.jpg\n",
            "14221192676_eb8c89a7d6_n.jpg  5001848317_b33d17ab7a_n.jpg\n",
            "14267691818_301aceda07.jpg    5001852101_877cb2ae9b_n.jpg\n",
            "14312910041_b747240d56_n.jpg  5001852517_6a8713ffe2_n.jpg\n",
            "14406317221_1f2be67201_n.jpg  5001853739_e293f7b268_n.jpg\n",
            "14408977935_a397e796b8_m.jpg  5001853887_0623dd2111_n.jpg\n",
            "14414100710_753a36fce9.jpg    5001854143_d868390640_n.jpg\n",
            "14414117598_cf70df30de.jpg    5001854803_cb87747d4a_n.jpg\n",
            "14414123198_24606fb32d.jpg    5001855107_71351ce785_n.jpg\n",
            "1445228333_59a07e0801.jpg     5001855689_e07486c44d_n.jpg\n",
            "14460517566_783dbf23b8_n.jpg  5001856089_4cf8e9c818_n.jpg\n",
            "1446090416_f0cad5fde4.jpg     5001856549_7e0a640488_n.jpg\n",
            "1446097778_97149b8362.jpg     5001857501_f8b1e3e987_n.jpg\n",
            "14494590921_3bb1dc7b88_n.jpg  5001857777_440e725f2f_n.jpg\n",
            "14510185271_b5d75dd98e_n.jpg  5001858821_731d128f20_n.jpg\n",
            "14573732424_1bb91e2e42_n.jpg  5002446908_150a969334_n.jpg\n",
            "145862135_ab710de93c_n.jpg    5002448396_7ca4d44086_n.jpg\n",
            "14597445311_8acb60247e.jpg    5002449706_647ffe5249_n.jpg\n",
            "1461381091_aaaa663bbe_n.jpg   5002450022_33337e895b_n.jpg\n",
            "14683774134_6367640585.jpg    5002451854_9cf0096db0_n.jpg\n",
            "14687731322_5613f76353.jpg    5002452394_22896fb9df_n.jpg\n",
            "1469726748_f359f4a8c5.jpg     5002452576_f61a48b2e3_n.jpg\n",
            "14747962886_2bff6bb323_m.jpg  5002452834_167883dbcf_n.jpg\n",
            "14810868100_87eb739f26_m.jpg  5002453148_5a7bbcce64_n.jpg\n",
            "1485142251_ca89254442.jpg     5002453464_ab2bcb3829_n.jpg\n",
            "14870567200_80cda4362e_n.jpg  5002453814_cf37b62acd_n.jpg\n",
            "14880561916_79aeb812fd_n.jpg  5002454522_300a419273_n.jpg\n",
            "14943194730_f48b4d4547_n.jpg  5002455332_9de0b1e85f_n.jpg\n",
            "14970973709_968910640e_n.jpg  5002455602_4286b34dde_n.jpg\n",
            "14982802401_a3dfb22afb.jpg    5002456302_e3d2600c17_n.jpg\n",
            "14993880427_95d0f27257.jpg    5002456992_4da0df247a_n.jpg\n",
            "15011625580_7974c44bce.jpg    5002457330_b77672da1c_n.jpg\n",
            "15032112248_30c5284e54_n.jpg  5002458392_f465ed905e_n.jpg\n",
            "15060816740_68e1b2c31b.jpg    5002458616_b1719ccc40_n.jpg\n",
            "15061894841_e5aca59ecd_n.jpg  5002459442_81825061e9_n.jpg\n",
            "15094168139_8f636ffa1d_n.jpg  5002460330_7286e80967_n.jpg\n",
            "15184419268_7230e9728e.jpg    5002460856_c44a02442f_n.jpg\n",
            "15190665092_5c1c37a066_m.jpg  5002461124_dc5988bbc9_n.jpg\n",
            "15202632426_d88efb321a_n.jpg  5002462640_5bf92142bf_n.jpg\n",
            "15222804561_0fde5eb4ae_n.jpg  5050969148_a0090f762a.jpg\n",
            "15236835789_6009b8f33d.jpg    505517255_cfbb6f6394.jpg\n",
            "15255964274_cf2ecdf702.jpg    5060519573_c628547e20_n.jpg\n",
            "15255964454_0a64eb67fa.jpg    5060536705_b370a5c543_n.jpg\n",
            "15274443248_76b9f3eb24.jpg    5061135742_2870a7b691_n.jpg\n",
            "15277801151_5ed88f40f0_n.jpg  5073473370_bdbb5a99fc.jpg\n",
            "15312360171_57bde98799_n.jpg  5083072098_81587295d5.jpg\n",
            "15333843782_060cef3030.jpg    5086249859_d066b37b8a_m.jpg\n",
            "1540738662_7b4152e344_m.jpg   5088766459_f81f50e57d_n.jpg\n",
            "15424480096_45bb574b33.jpg    5089363428_2c5a1272ea.jpg\n",
            "15498482197_8878cdfb07_n.jpg  509239741_28e2cfe492_m.jpg\n",
            "15509799653_0562d4a4fa.jpg    512578026_f6e6f2ad26.jpg\n",
            "1562198683_8cd8cb5876_n.jpg   512694812_48ba9c0b49_n.jpg\n",
            "15674450867_0ced942941_n.jpg  5148639829_781eb7d346.jpg\n",
            "15681454551_b6f73ce443_n.jpg  515121050_dcb99890be.jpg\n",
            "15697872479_ed48e9dd73_n.jpg  5156037859_1673720a11_m.jpg\n",
            "15699509054_d3e125286f_n.jpg  5159317458_bbb22e2f65_n.jpg\n",
            "15811380728_5053455c50_n.jpg  5172171681_5934378f08.jpg\n",
            "15811411368_f4f2cd8873_n.jpg  5182167964_9d1a0be0b8_n.jpg\n",
            "15816400548_c551da2212_n.jpg  5206847130_ee4bf0e4de_n.jpg\n",
            "15818051327_9a44bf6244_n.jpg  5212877807_a3ddf06a7c_n.jpg\n",
            "15820572326_be2ea4a55c_n.jpg  5212885371_fe27c406a2_n.jpg\n",
            "15821959372_518b9dcf57_n.jpg  5223191368_01aedb6547_n.jpg\n",
            "15822837396_96b392fda8_m.jpg  5231103167_a03280e9f6_n.jpg\n",
            "159079265_d77a9ac920_n.jpg    5234278003_d827fcd73b_m.jpg\n",
            "15922772266_1167a06620.jpg    5249439791_196b4e7fc7.jpg\n",
            "15949087094_a8f565295c_m.jpg  5249566718_6109630c83_m.jpg\n",
            "15951588433_c0713cbfc6_m.jpg  5273722065_c85d8543c2_m.jpg\n",
            "15965652160_de91389965_m.jpg  527513005_41497ca4dc.jpg\n",
            "15972975956_9a770ca9dd_n.jpg  5292988046_a10f4b0365_n.jpg\n",
            "15972976206_d32feeb79b_n.jpg  5332550500_ab341aefd8.jpg\n",
            "15977362155_461030c196_m.jpg  5333437251_ce0aa6925d_n.jpg\n",
            "15978010566_5fa5905af1_n.jpg  5335930735_f396f37a81_n.jpg\n",
            "15978020586_6cb322b120_n.jpg  5335931029_74c01d3c35_n.jpg\n",
            "15996816031_7f2fea25cb_n.jpg  5335931263_18edb092b0_n.jpg\n",
            "16001846141_393fdb887e_n.jpg  5335935585_e4a8435aab_n.jpg\n",
            "16018886851_c32746cb72.jpg    5335935851_53634d6aed_n.jpg\n",
            "16051111039_0f0626a241_n.jpg  5335936115_0292d0beef_n.jpg\n",
            "160954292_6c2b4fda65_n.jpg    5335936311_390e8ed5d9_n.jpg\n",
            "16152205512_9d6cb80fb6.jpg    5335937199_2c83d46a57_n.jpg\n",
            "16155980245_6ab8d7b888.jpg    5335937417_74a03b52ec_n.jpg\n",
            "16157873719_bf0bdf8558_n.jpg  5335944093_a00b28c4ff_n.jpg\n",
            "16229215579_e7dd808e9c.jpg    5335944839_a3b6168534_n.jpg\n",
            "16374919860_4e445de29f_n.jpg  5335945309_852d018a27_n.jpg\n",
            "1645761726_2b1be95472.jpg     5335945781_e45852fa49_n.jpg\n",
            "16476788181_0e2ffc719a.jpg    5335946155_be70e11cf2_n.jpg\n",
            "16484100863_979beacb08.jpg    5335946401_f49bfbe3f9_n.jpg\n",
            "16525204061_9b47be3726_m.jpg  5336545886_7b93463c06_n.jpg\n",
            "16545641666_2781e542a0_m.jpg  5336546068_8fd643243c_n.jpg\n",
            "16552686350_db8db55cd2.jpg    5336549532_49c711d49a_n.jpg\n",
            "16643785404_284c6c23fe_n.jpg  5336551122_2df8fee6da_n.jpg\n",
            "16643944275_3cd4cd966c.jpg    5336551618_16d4eea9c4_n.jpg\n",
            "1666341535_99c6f7509f_n.jpg   5336555402_4f6f03f5a5_n.jpg\n",
            "16670921315_0fc48d7ab2_n.jpg  5336558870_22d0a6a318_n.jpg\n",
            "1667199972_7ba7d999c1_m.jpg   5336559428_71e8b58ab5_n.jpg\n",
            "16691277899_9433f39155_n.jpg  5336560370_f994cb35a1_n.jpg\n",
            "16772483324_09f24813a1_n.jpg  5336561772_61a0ca4b22_n.jpg\n",
            "16903172207_2cd7aca66a.jpg    5336562212_d014ddf9ca_n.jpg\n",
            "17040847367_b54d05bf52.jpg    5336562502_d697a3f0b2_n.jpg\n",
            "17062080069_36ac7907d2_n.jpg  534228982_4afbcece9b_m.jpg\n",
            "17090993740_fcc8b60b81.jpg    5349248481_6445341842_n.jpg\n",
            "17104364030_ee31ee279b_n.jpg  5349248997_4b23a7344d_n.jpg\n",
            "17105684129_e2cb69ea24_n.jpg  5349249357_d4c0523f7e_n.jpg\n",
            "17158274118_00ec99a23c.jpg    5349249547_5cde2db97c_n.jpg\n",
            "17165596357_392a12391f.jpg    5349249729_be6b2cac86_n.jpg\n",
            "17291451621_0e39f08b9e_n.jpg  5349249933_f02c8ea7de_n.jpg\n",
            "17291930305_79deae6a90_n.jpg  5349250145_960c51d4fc_n.jpg\n",
            "17302463621_d82be11f01_n.jpg  5349250331_05501d6557_n.jpg\n",
            "17305246720_1866d6303b.jpg    5349251139_92539c279a_n.jpg\n",
            "174109630_3c544b8a2f.jpg      5349254467_388ff94f8b_n.jpg\n",
            "17449165090_dfb27af360_n.jpg  5349859602_1ab3356c64_n.jpg\n",
            "17554868955_35f48516cd_m.jpg  5349861432_96137002c4_n.jpg\n",
            "1756973583_4aac7df00d_m.jpg   5349861636_4101a36923_n.jpg\n",
            "1757822526_fe30b9b3ca_m.jpg   5349865018_99cd7f985a_n.jpg\n",
            "1775233884_12ff5a124f.jpg     5349865556_e3263fbdc0_n.jpg\n",
            "17867791274_25bb3f8a41_n.jpg  5360769702_ec28c53b9e_n.jpg\n",
            "17869810353_c0d9902bc3_n.jpg  537207677_f96a0507bb.jpg\n",
            "17869839663_1445f1efd0_n.jpg  537625768_791e973b40.jpg\n",
            "17869846573_d6c9c39843_n.jpg  5398569540_7d134c42cb_n.jpg\n",
            "1788484468_f73afa6c32_n.jpg   5398974188_799753449c.jpg\n",
            "1793211631_68c31a74dc.jpg     5402157745_a384f0583d_n.jpg\n",
            "17990320484_93bba345d2_m.jpg  5415173021_ec34517d84_n.jpg\n",
            "1801614110_bb9fa46830.jpg     5415782938_6ce6e4a90d_n.jpg\n",
            "1813435848_7852708394_n.jpg   5415783734_b002ebce24_n.jpg\n",
            "18220342690_f1c20134bd.jpg    5419629292_2f06e4b295.jpg\n",
            "18302672248_38fe0f70af_n.jpg  5487945052_bcb8e9fc8b_m.jpg\n",
            "18302691898_9dc45afae8_n.jpg  5492988531_574cdc2bf0_n.jpg\n",
            "18302701228_2b5790b199_n.jpg  5497730366_44d758d8f5.jpg\n",
            "18302793940_8fcc8b4661_n.jpg  5502949025_96d11a17ff_n.jpg\n",
            "18302796110_02ef47cd43_n.jpg  5526964611_76ef13025c_n.jpg\n",
            "18302801780_50f9a04639_n.jpg  5529341024_0c35f2657d.jpg\n",
            "18304294599_2b0b604a8d_n.jpg  5537794501_a0767743fd_n.jpg\n",
            "1831404161_d2df86fd70.jpg     5570018782_c56bee942f.jpg\n",
            "18376177250_86060cbdc9.jpg    5578760521_e54aca6bed_n.jpg\n",
            "18464055536_709c8af0b7_n.jpg  5578766623_542c91dfaa_n.jpg\n",
            "18464075576_4e496e7d42_n.jpg  5602220566_5cdde8fa6c_n.jpg\n",
            "18464080946_a624ce6376_n.jpg  5628552852_60bbe8d9b0_n.jpg\n",
            "18464084356_0d2d93f896_n.jpg  563847503_89e9756c80.jpg\n",
            "18486123042_5c8da68f38_n.jpg  568715474_bdb64ccc32.jpg\n",
            "18486124712_17ebe7559b_n.jpg  5693486585_cf64d87519_n.jpg\n",
            "18486151112_6f83e92223_n.jpg  5693489465_2d0b2e4eb2_n.jpg\n",
            "18486171962_c46dbd067d_n.jpg  5693492187_dc46424be3_n.jpg\n",
            "18490508225_0fc630e963_n.jpg  5693495337_0e42b4d9f0_n.jpg\n",
            "18492288871_8c9d5657bb_n.jpg  5693502877_41c11295b6_n.jpg\n",
            "18492296751_0bf021da9b_n.jpg  5694071486_90c2b1aee5_n.jpg\n",
            "18492302751_cf6a5a583e_n.jpg  5694090698_1f0c218250_n.jpg\n",
            "18492322571_3b99e55560_n.jpg  5717319579_190e85c7d1_m.jpg\n",
            "18492342231_c074b4b19c_n.jpg  5721768347_2ec4d2247b_n.jpg\n",
            "18563353954_b761d97155_m.jpg  5731750490_ba3325b7ee_n.jpg\n",
            "18584002386_cec0df537d_n.jpg  5736328472_8f25e6f6e7.jpg\n",
            "18599603859_f2ec616ddf_n.jpg  5777669976_a205f61e5b.jpg\n",
            "18741313803_1bbf842fc6_n.jpg  5799616059_0ffda02e54.jpg\n",
            "18760363474_a707331322_n.jpg  5835539224_75967fc400_m.jpg\n",
            "18990187093_09f2bff8fc_m.jpg  5863698305_04a4277401_n.jpg\n",
            "19027407015_141c10ddcb_n.jpg  5897035797_e67bf68124_n.jpg\n",
            "19153732586_9de58c8f53_n.jpg  5960270643_1b8a94822e_m.jpg\n",
            "19271410704_932d1f2c97_n.jpg  5961803532_9368212949_m.jpg\n",
            "19440805164_920b28da61_n.jpg  5979193298_639e877248.jpg\n",
            "1949195327_75f76c12b1.jpg     5990626258_697f007308_n.jpg\n",
            "19823402005_2db025dd66_m.jpg  6053143173_991c011b23.jpg\n",
            "19919867648_043cf02fc3.jpg    6108118824_5b0231a56d.jpg\n",
            "19988406792_68201f76e3_n.jpg  6125332325_b768e08bd9_n.jpg\n",
            "20409866779_ac473f55e0_m.jpg  6163179241_f093f45d95_n.jpg\n",
            "2053476785_c162a3e358.jpg     6209630964_e8de48fe04_m.jpg\n",
            "2059172936_032ffc12aa.jpg     6231418894_7946a7712b_n.jpg\n",
            "20596941736_f2c5f496cf.jpg    6241886381_cc722785af.jpg\n",
            "20622485918_90fc000c86_n.jpg  6255593451_b8a3aa8f7a_m.jpg\n",
            "2065522422_cfdd80044a_n.jpg   6280787884_141cd7b382_n.jpg\n",
            "20825078671_90b0389c70_m.jpg  6309548569_932fee8313_m.jpg\n",
            "20851336110_b17107948d_n.jpg  6347846687_3f0a7c3176.jpg\n",
            "2093263381_afd51358a3.jpg     6347846935_51e3dc2481_n.jpg\n",
            "21039447185_96d59941b2_n.jpg  6347847065_83cf87333b_n.jpg\n",
            "2122401867_cd86c5f114_n.jpg   6363951285_a802238d4e.jpg\n",
            "21346056089_e6f8074e5f_m.jpg  6363976189_e7155e5f9c.jpg\n",
            "21347496068_f4d3339607.jpg    6409000675_6eb6806e59.jpg\n",
            "21413573151_e681c6a97a.jpg    6473543547_4fefdbd5dc.jpg\n",
            "2141413229_3f0425f972_n.jpg   6653567281_768a1fd160.jpg\n",
            "21522100663_455b77a90c_n.jpg  6732261031_861a1026fa_n.jpg\n",
            "218630974_5646dafc63_m.jpg    685724528_6cd5cbe203.jpg\n",
            "2197754124_5c8a146761_n.jpg   6864417932_36fa4ceecf_n.jpg\n",
            "22093190909_77223e6f53_n.jpg  6867597533_d65d1c39fb_n.jpg\n",
            "2215318403_06eb99176a.jpg     6879112993_5a29208438_n.jpg\n",
            "22325299158_6e32e599f8_m.jpg  6936225976_a91b60d8c2_m.jpg\n",
            "22385375599_1faf334f5d_n.jpg  6950609394_c53b8c6ac0_m.jpg\n",
            "22506717337_0fd63e53e9.jpg    6969041818_a505baa68e_m.jpg\n",
            "2258973326_03c0145f15_n.jpg   7147367479_f7a6ef0798.jpg\n",
            "2265390547_2409007cef_n.jpg   7186509956_c37c02fb43_n.jpg\n",
            "2265579414_2e00a8f265_n.jpg   7187035716_5d0fb95c31_n.jpg\n",
            "22679076_bdb4c24401_m.jpg     7251352826_69b62cba2c_m.jpg\n",
            "2273917656_6d6c038283.jpg     7285188160_49d84b95a3_m.jpg\n",
            "229488796_21ac6ee16d_n.jpg    7304710956_015b41f802_m.jpg\n",
            "22982871191_ec61e36939_n.jpg  7316409504_7cf3707f8a_m.jpg\n",
            "23232710191_cc57620cd5.jpg    7345657862_689366e79a.jpg\n",
            "2325232198_751645d0bb_n.jpg   7376471712_e1be793f94.jpg\n",
            "2331651885_619653a5d3.jpg     7376473742_532364cee5_n.jpg\n",
            "2332478138_28f1d586e4_n.jpg   7409458444_0bfc9a0682_n.jpg\n",
            "2347579838_dd6d2aaefc_n.jpg   7419966772_d6c1c22a81.jpg\n",
            "23891005905_17ce9e6936.jpg    7420699022_60fa574524_m.jpg\n",
            "2392457180_f02dab5c65.jpg     7455236056_b6d71a8dab.jpg\n",
            "2414954629_3708a1a04d.jpg     7456196174_f9de97ba73_n.jpg\n",
            "2423565102_2f1a00bb1b_n.jpg   7456196534_f69c17efa3_n.jpg\n",
            "2471103806_87ba53d997_n.jpg   7456196908_d34b9b76c4_n.jpg\n",
            "2491600761_7e9d6776e8_m.jpg   7456197696_7e1558cc22_n.jpg\n",
            "2501297526_cbd66a3f7e_m.jpg   7456198272_f5d0c6bc7e_n.jpg\n",
            "2535495431_e6f950443c.jpg     7456439188_c2ba954a5d_n.jpg\n",
            "2536282942_b5ca27577e.jpg     7456439862_8b1ae909b7_n.jpg\n",
            "2550860627_998a4fc4c1.jpg     7456492140_478b48ef8e_n.jpg\n",
            "2607130050_9c34310004.jpg     7456611336_52fec6b57e_n.jpg\n",
            "2609353769_dc3654f12f.jpg     7456771390_c2505e08a2_n.jpg\n",
            "26605779860_50872b454a_n.jpg  7456887736_54e4ebac03_n.jpg\n",
            "26723815164_d03d4d69cb_n.jpg  7456914664_cdee3170c5_n.jpg\n",
            "2675221506_5286c0595f.jpg     7461878736_a55f749faf_n.jpg\n",
            "2677417735_a697052d2d_n.jpg   7461896668_cfef58f894_n.jpg\n",
            "26811158051_8f264eea6b_n.jpg  7461897058_3c955efe2a_n.jpg\n",
            "2682566502_967e7eaa2a.jpg     7461897398_0053093145_n.jpg\n",
            "2713683760_d98cd2a05b_m.jpg   7461897646_3203dbe067_n.jpg\n",
            "272481307_1eb47ba3e0_n.jpg    7461898018_7e12128f14_n.jpg\n",
            "2735666555_01d53e74fe.jpg     7461898754_9032a38963_n.jpg\n",
            "2756028421_b3d5eea526_n.jpg   7461899002_a3b21d0770_n.jpg\n",
            "27619697563_228f5c4677_n.jpg  7461899330_3b72976570_n.jpg\n",
            "2777518561_105abc8cfc_n.jpg   7470985338_a1f3bba601_n.jpg\n",
            "2788276815_8f730bd942.jpg     7470985688_c1ee9105fa_n.jpg\n",
            "28131227642_e279b5768b_n.jpg  7470985840_a93e958554_n.jpg\n",
            "2850381271_d2f9a470b1_n.jpg   7471890480_498910f3e3_n.jpg\n",
            "2888138918_402096c7fb.jpg     7471890644_92a004ea92_n.jpg\n",
            "2949945463_366bc63079_n.jpg   7471890786_aaff777641_n.jpg\n",
            "295257304_de893fc94d.jpg      7471890996_e61b134867_n.jpg\n",
            "2960709681_e95940c0f0_n.jpg   7471891186_195bb02c98_n.jpg\n",
            "298670754_f25edda891.jpg      7471891352_cfd56b4e45_n.jpg\n",
            "3026375835_a20ecdd140_m.jpg   7471891548_40f350dff2_n.jpg\n",
            "3045046293_57f6d52065_m.jpg   7471891698_072c1de52f_n.jpg\n",
            "3052753519_d087aaeacb_n.jpg   7474124984_ca015e8c10_n.jpg\n",
            "3065719996_c16ecd5551.jpg     7474125638_332be2863e_n.jpg\n",
            "3072908271_08764c732a_m.jpg   7474126248_889a026929_n.jpg\n",
            "3074406590_91c697c805_n.jpg   7474126688_5f888ace5b_n.jpg\n",
            "31050510212_73d570592a_n.jpg  7481117422_66e73115ac_n.jpg\n",
            "323872063_7264e7e018_m.jpg    7481118128_b2de9538b4_n.jpg\n",
            "32442998706_ba6cacf354_n.jpg  7481118556_6c209b9b7d_n.jpg\n",
            "3253243865_435c1f2c2b_m.jpg   7481118926_43fa291306_n.jpg\n",
            "3264570182_c7ded528ba_m.jpg   7481119180_7be71a322a_n.jpg\n",
            "3268459296_a7346c6b2c.jpg     7481119492_a0016cb059_n.jpg\n",
            "32724693914_282ccc4f92_n.jpg  7481119854_b4bb358f0b_n.jpg\n",
            "3276552939_8c31b22d3e.jpg     7502389724_85b4a6c855_n.jpg\n",
            "3278709893_ba4956a572_n.jpg   7525783408_0999483bf4_m.jpg\n",
            "3292434691_392071d702_n.jpg   7551637034_55ae047756_n.jpg\n",
            "33184832190_e5411d91a4_n.jpg  7683456068_02644b8382_m.jpg\n",
            "33185001420_dc8f571c4f_n.jpg  7820626638_3e2d712303.jpg\n",
            "33411423082_8150d9254e_n.jpg  7865295712_bcc94d120c.jpg\n",
            "33568244695_7ec846bcc6_n.jpg  8032328803_30afac8b07_m.jpg\n",
            "33568345265_e4f7d0fe45_n.jpg  8035908422_87220425d2_n.jpg\n",
            "3407482427_49d5c75291_m.jpg   8035910225_125beceb98_n.jpg\n",
            "3415176946_248afe9f32.jpg     8036594516_69a7da5f73_m.jpg\n",
            "3422228549_f147d6e642.jpg     8050213579_48e1e7109f.jpg\n",
            "3450344423_63ba3190e3.jpg     8060338380_eb6c806624_n.jpg\n",
            "3451177763_729a4d54af_n.jpg   8063462557_e0a8bd6c64_n.jpg\n",
            "3465443774_6b0c75a3b1_n.jpg   8096324039_4db2555490.jpg\n",
            "3475572132_01ae28e834_n.jpg   8125886145_ae99f91fd0.jpg\n",
            "3494252600_29f26e3ff0_n.jpg   8181940917_1ac63937d5_n.jpg\n",
            "3500121696_5b6a69effb_n.jpg   8209458141_38f38be65c_m.jpg\n",
            "3526860692_4c551191b1_m.jpg   8241471746_5d81fdd3c0_n.jpg\n",
            "353897245_5453f35a8e.jpg      8269247725_4b56cd860d_n.jpg\n",
            "3550491463_3eb092054c_m.jpg   8272822550_fc49484186_n.jpg\n",
            "3554620445_082dd0bec4_n.jpg   8273451349_acd4748da6_n.jpg\n",
            "3556123230_936bf084a5_n.jpg   8279801891_5369a6c3c1_n.jpg\n",
            "3576488381_611f3446e0_n.jpg   8301512319_45185c447f_n.jpg\n",
            "3621011057_0d03bd171b_n.jpg   8388497874_1fe750cc95_m.jpg\n",
            "3624546109_8eb98f0cdb.jpg     8394286483_69fe04cc7f.jpg\n",
            "3630246240_4fee9a33db.jpg     8437935944_aab997560a_n.jpg\n",
            "3634244527_e72c47842c_n.jpg   850416050_31b3ff7086.jpg\n",
            "3654988152_b11178bbcb.jpg     8516036987_8a06dfe1b5_n.jpg\n",
            "3661675690_ed2d05fa5f_n.jpg   8523394349_61b31fdd8f_m.jpg\n",
            "3663244576_97f595cf4a.jpg     8524505682_bda885af3a_n.jpg\n",
            "3664842094_5fd60ee26b.jpg     8524505868_236f4c94b5.jpg\n",
            "3667366832_7a8017c528_n.jpg   8562144481_1d629848ff.jpg\n",
            "3697780051_83e50a6dd1_m.jpg   8622493424_877ae35ed7.jpg\n",
            "3705716290_cb7d803130_n.jpg   8642943283_47e44d049d_m.jpg\n",
            "3742155164_14b557a51c_n.jpg   8644003462_2272de26eb.jpg\n",
            "3742168238_d961937e68_n.jpg   8667101118_87ea757b15.jpg\n",
            "3751835302_d5a03f55e8_n.jpg   8667746487_781af9e615_n.jpg\n",
            "3753920123_c7ebc18ee3.jpg     8671682526_7058143c99.jpg\n",
            "3871586333_5a708d5cf4_n.jpg   8674140377_ae7b0be523.jpg\n",
            "3872230296_6c477309f3_n.jpg   8692040971_826614516f_n.jpg\n",
            "3873271620_1d9d314f01_n.jpg   8692051081_dffa8709e7_m.jpg\n",
            "388405293_4db1d71f21_n.jpg    8723767157_c45bfd3ab6.jpg\n",
            "3903276582_fe05bf84c7_n.jpg   873660804_37f5c6a46e_n.jpg\n",
            "3909587261_f8cd3e7fe7.jpg     8742493617_c2a9bf854f_m.jpg\n",
            "3948347096_42261f047a_m.jpg   8742493689_fb852f0228_n.jpg\n",
            "394990940_7af082cf8d_n.jpg    8747396730_966149e6fe_n.jpg\n",
            "3971662839_5cb2963b20_n.jpg   8853083579_dd1dfa3188.jpg\n",
            "3997609936_8db20b7141_n.jpg   8926641787_d2515dfe8f_m.jpg\n",
            "4061451210_1650590c6a.jpg     8949720453_66e8304c30.jpg\n",
            "4065283966_9504b98269.jpg     8960904651_9a0b727258.jpg\n",
            "4093390305_4010c736c9.jpg     898102603_2d5152f09a.jpg\n",
            "410421672_563550467c.jpg      8983268106_dc913d17d8_m.jpg\n",
            "410425647_4586667858.jpg      8987479080_32ab912d10_n.jpg\n",
            "4231745228_ece86330d9.jpg     909277823_e6fb8cb5c8_n.jpg\n",
            "4242976586_607a8f9843_n.jpg   9159362388_c6f4cf3812_n.jpg\n",
            "4267024012_295e7141a3_n.jpg   9160289562_ab2718d19b.jpg\n",
            "4279989256_9a48c0d194_n.jpg   9164900485_605aa12da8.jpg\n",
            "4279990882_031482f8b6_n.jpg   9164924345_6b63637acf.jpg\n",
            "4325834819_ab56661dcc_m.jpg   9167147034_0a66ee3616_n.jpg\n",
            "4356781875_92c5cd93c0.jpg     921138131_9e1393eb2b_m.jpg\n",
            "4360743371_6238b36d8c_m.jpg   9216321995_83df405ea9.jpg\n",
            "4363734507_5cc4ed6e01.jpg     9216323421_f737c1d50e.jpg\n",
            "4413509121_a62879598a.jpg     9216324117_5fa1e2bc25_n.jpg\n",
            "4414135084_1ac7e6cd54.jpg     921984328_a60076f070_m.jpg\n",
            "4495885281_fe2a3b671d.jpg     9298314004_c1a8146521.jpg\n",
            "4503599544_3822e7d1be.jpg     9309388105_12c0b8dd54_m.jpg\n",
            "4504220673_af754fcb40_n.jpg   9320934277_4fb95aef5d_n.jpg\n",
            "4504731519_9a260b6607_n.jpg   9337528427_3d09b7012b.jpg\n",
            "4505921907_21c8002fde.jpg     9338237628_4d2547608c.jpg\n",
            "4553266758_09d4dbdac9_n.jpg   9353111163_7a89b2df35_n.jpg\n",
            "4558025386_2c47314528.jpg     9355706808_a9a723a8e8_n.jpg\n",
            "4575042086_7674b76297_n.jpg   9369421752_db1ab2a6a4_m.jpg\n",
            "4588034197_e300b0872a_n.jpg   9404876600_04f6d37685.jpg\n",
            "459042023_6273adc312_n.jpg    9423755543_edb35141a3_n.jpg\n",
            "4608559939_3487bf3b62_n.jpg   9433167170_fa056d3175.jpg\n",
            "4609166128_b7ed49b40b_m.jpg   9458445402_79e4dfa89c.jpg\n",
            "4609168052_3d4e1d3804_n.jpg   9609569441_eeb8566e94.jpg\n",
            "4612766755_7d3f047db0_n.jpg   9614492283_66020fb4eb_n.jpg\n",
            "4612774939_e26ec1c34d_n.jpg   9633056561_6f1b7e8faf_m.jpg\n",
            "4612784323_0bcfb978f0_n.jpg   9702378513_229a96b754_m.jpg\n",
            "4612826243_7d86870a1b_n.jpg   99383371_37a5ac12a3_n.jpg\n",
            "4612830331_2a44957465_n.jpg\n"
          ],
          "name": "stdout"
        }
      ]
    },
    {
      "cell_type": "code",
      "metadata": {
        "id": "sZh7IBO4zmBC",
        "outputId": "c421ec53-daf3-461c-b307-c2555d1d64aa",
        "colab": {
          "base_uri": "https://localhost:8080/",
          "height": 34
        }
      },
      "source": [
        "%matplotlib inline\n",
        "import matplotlib.pyplot as plt\n",
        "\n",
        "\n",
        "from sutils import *\n",
        "import os, json\n",
        "from glob import glob\n",
        "import numpy as np\n",
        "\n",
        "import keras\n",
        "\n",
        "from tensorflow.keras import optimizers\n",
        "\n",
        "from tensorflow.keras.applications import InceptionV3\n",
        "from tensorflow.keras.applications.vgg16 import VGG16\n",
        "\n",
        "\n",
        "from tensorflow.python.keras.preprocessing import image\n",
        "from tensorflow.python.keras.preprocessing.image import ImageDataGenerator\n",
        "\n",
        "from tensorflow.python.keras.models import Model,load_model,Sequential\n",
        "\n",
        "from tensorflow.python.keras.layers import Dense, GlobalAveragePooling2D, Dropout,Flatten, Input, Conv2D, MaxPooling2D, Dropout, Flatten\n",
        "from tensorflow.python.keras import backend as K\n",
        "\n",
        "from tensorflow.keras.callbacks import ModelCheckpoint, Callback"
      ],
      "execution_count": null,
      "outputs": [
        {
          "output_type": "stream",
          "text": [
            "Using TensorFlow backend.\n"
          ],
          "name": "stderr"
        }
      ]
    },
    {
      "cell_type": "code",
      "metadata": {
        "id": "H-JWdC-fzp4q",
        "outputId": "bc3c96df-bf8e-4afa-852c-547e5ddf14c6",
        "colab": {
          "base_uri": "https://localhost:8080/",
          "height": 70
        }
      },
      "source": [
        "print(tf.__version__)\n",
        "print(tf.keras.__version__)\n",
        "print(keras.__version__)"
      ],
      "execution_count": null,
      "outputs": [
        {
          "output_type": "stream",
          "text": [
            "1.12.0\n",
            "2.1.6-tf\n",
            "2.2.4\n"
          ],
          "name": "stdout"
        }
      ]
    },
    {
      "cell_type": "code",
      "metadata": {
        "id": "SUX1gRTRIikR",
        "outputId": "90d41dad-1570-46ae-db36-835ac246578f",
        "colab": {
          "base_uri": "https://localhost:8080/",
          "height": 34
        }
      },
      "source": [
        "!ls flowers"
      ],
      "execution_count": null,
      "outputs": [
        {
          "output_type": "stream",
          "text": [
            "daisy  dandelion  rose\tsunflower  tulip\n"
          ],
          "name": "stdout"
        }
      ]
    },
    {
      "cell_type": "code",
      "metadata": {
        "id": "qhF9EGj-IlBG"
      },
      "source": [
        "batch_size = 32\n",
        "epochs = 10\n",
        "\n",
        "lr = 0.001"
      ],
      "execution_count": null,
      "outputs": []
    },
    {
      "cell_type": "code",
      "metadata": {
        "id": "KansA0vqIswq",
        "outputId": "f92b50a6-a0f1-4989-a761-28031f511282",
        "colab": {
          "base_uri": "https://localhost:8080/",
          "height": 34
        }
      },
      "source": [
        "import glob\n",
        "import pandas as pd\n",
        "\n",
        "filenames_n0 = glob.glob('./flowers/daisy/*.jpg')\n",
        "filenames_n1 = glob.glob('./flowers/dandelion/*.jpg')\n",
        "filenames_n2 = glob.glob('./flowers/rose/*.jpg')\n",
        "filenames_n3 = glob.glob('./flowers/sunflower/*.jpg')\n",
        "filenames_n4 = glob.glob('./flowers/tulip/*.jpg')\n",
        "\n",
        "names = ['daisy', 'dandelion','rose','sunflower','tulip']\n",
        "\n",
        "\n",
        "len(filenames_n1)"
      ],
      "execution_count": null,
      "outputs": [
        {
          "output_type": "execute_result",
          "data": {
            "text/plain": [
              "1024"
            ]
          },
          "metadata": {
            "tags": []
          },
          "execution_count": 11
        }
      ]
    },
    {
      "cell_type": "code",
      "metadata": {
        "id": "FWvpTWhfIv4E",
        "outputId": "3ad12e49-a1f4-463c-d923-85cb90154ff3",
        "colab": {
          "base_uri": "https://localhost:8080/",
          "height": 194
        }
      },
      "source": [
        "filenames_n3[:10]"
      ],
      "execution_count": null,
      "outputs": [
        {
          "output_type": "execute_result",
          "data": {
            "text/plain": [
              "['./flowers/sunflower/417251603_69f0ee57a9_m.jpg',\n",
              " './flowers/sunflower/15122112402_cafa41934f.jpg',\n",
              " './flowers/sunflower/7728953426_abd179ab63.jpg',\n",
              " './flowers/sunflower/3766264038_ea701c7131_n.jpg',\n",
              " './flowers/sunflower/20148493928_9f75a99783.jpg',\n",
              " './flowers/sunflower/19756232959_17cde3b9f0_m.jpg',\n",
              " './flowers/sunflower/2894191705_a1d2d80c80.jpg',\n",
              " './flowers/sunflower/215798352_184d8040d1.jpg',\n",
              " './flowers/sunflower/184683023_737fec5b18.jpg',\n",
              " './flowers/sunflower/5091281256_648c37d7c1_n.jpg']"
            ]
          },
          "metadata": {
            "tags": []
          },
          "execution_count": 13
        }
      ]
    },
    {
      "cell_type": "code",
      "metadata": {
        "id": "jLP3IL48I0K2",
        "outputId": "3150651b-9e54-4757-851b-84168125da4c",
        "colab": {
          "base_uri": "https://localhost:8080/",
          "height": 197
        }
      },
      "source": [
        "df = pd.DataFrame(filenames_n0, columns = [\"filename\"])\n",
        "df2 = pd.DataFrame(filenames_n1, columns = [\"filename\"])\n",
        "df3 = pd.DataFrame(filenames_n2, columns = [\"filename\"])\n",
        "df4 = pd.DataFrame(filenames_n3, columns = [\"filename\"])\n",
        "df5 = pd.DataFrame(filenames_n4, columns = [\"filename\"])\n",
        "\n",
        "df.head()"
      ],
      "execution_count": null,
      "outputs": [
        {
          "output_type": "execute_result",
          "data": {
            "text/html": [
              "<div>\n",
              "<style scoped>\n",
              "    .dataframe tbody tr th:only-of-type {\n",
              "        vertical-align: middle;\n",
              "    }\n",
              "\n",
              "    .dataframe tbody tr th {\n",
              "        vertical-align: top;\n",
              "    }\n",
              "\n",
              "    .dataframe thead th {\n",
              "        text-align: right;\n",
              "    }\n",
              "</style>\n",
              "<table border=\"1\" class=\"dataframe\">\n",
              "  <thead>\n",
              "    <tr style=\"text-align: right;\">\n",
              "      <th></th>\n",
              "      <th>filename</th>\n",
              "    </tr>\n",
              "  </thead>\n",
              "  <tbody>\n",
              "    <tr>\n",
              "      <th>0</th>\n",
              "      <td>./flowers/daisy/33855966243_01b2486428_n.jpg</td>\n",
              "    </tr>\n",
              "    <tr>\n",
              "      <th>1</th>\n",
              "      <td>./flowers/daisy/14921511479_7b0a647795.jpg</td>\n",
              "    </tr>\n",
              "    <tr>\n",
              "      <th>2</th>\n",
              "      <td>./flowers/daisy/3326037909_b5ae370722_n.jpg</td>\n",
              "    </tr>\n",
              "    <tr>\n",
              "      <th>3</th>\n",
              "      <td>./flowers/daisy/538920244_59899a78f8_n.jpg</td>\n",
              "    </tr>\n",
              "    <tr>\n",
              "      <th>4</th>\n",
              "      <td>./flowers/daisy/5632774792_0fa33d17eb_n.jpg</td>\n",
              "    </tr>\n",
              "  </tbody>\n",
              "</table>\n",
              "</div>"
            ],
            "text/plain": [
              "                                       filename\n",
              "0  ./flowers/daisy/33855966243_01b2486428_n.jpg\n",
              "1    ./flowers/daisy/14921511479_7b0a647795.jpg\n",
              "2   ./flowers/daisy/3326037909_b5ae370722_n.jpg\n",
              "3    ./flowers/daisy/538920244_59899a78f8_n.jpg\n",
              "4   ./flowers/daisy/5632774792_0fa33d17eb_n.jpg"
            ]
          },
          "metadata": {
            "tags": []
          },
          "execution_count": 14
        }
      ]
    },
    {
      "cell_type": "code",
      "metadata": {
        "id": "3xkt62h8I3qc",
        "outputId": "b8168e54-dfd4-4b5d-a614-ff9469b8f13b",
        "colab": {
          "base_uri": "https://localhost:8080/",
          "height": 197
        }
      },
      "source": [
        "df['class'] = pd.Series([0 for x in range(len(df.index))], index=df.index)\n",
        "df2['class'] = pd.Series([1 for x in range(len(df2.index))], index=df2.index)\n",
        "df3['class'] = pd.Series([2 for x in range(len(df3.index))], index=df3.index)\n",
        "df4['class'] = pd.Series([3 for x in range(len(df4.index))], index=df4.index)\n",
        "df5['class'] = pd.Series([4 for x in range(len(df5.index))], index=df5.index)\n",
        "\n",
        "df.head()"
      ],
      "execution_count": null,
      "outputs": [
        {
          "output_type": "execute_result",
          "data": {
            "text/html": [
              "<div>\n",
              "<style scoped>\n",
              "    .dataframe tbody tr th:only-of-type {\n",
              "        vertical-align: middle;\n",
              "    }\n",
              "\n",
              "    .dataframe tbody tr th {\n",
              "        vertical-align: top;\n",
              "    }\n",
              "\n",
              "    .dataframe thead th {\n",
              "        text-align: right;\n",
              "    }\n",
              "</style>\n",
              "<table border=\"1\" class=\"dataframe\">\n",
              "  <thead>\n",
              "    <tr style=\"text-align: right;\">\n",
              "      <th></th>\n",
              "      <th>filename</th>\n",
              "      <th>class</th>\n",
              "    </tr>\n",
              "  </thead>\n",
              "  <tbody>\n",
              "    <tr>\n",
              "      <th>0</th>\n",
              "      <td>./flowers/daisy/33855966243_01b2486428_n.jpg</td>\n",
              "      <td>0</td>\n",
              "    </tr>\n",
              "    <tr>\n",
              "      <th>1</th>\n",
              "      <td>./flowers/daisy/14921511479_7b0a647795.jpg</td>\n",
              "      <td>0</td>\n",
              "    </tr>\n",
              "    <tr>\n",
              "      <th>2</th>\n",
              "      <td>./flowers/daisy/3326037909_b5ae370722_n.jpg</td>\n",
              "      <td>0</td>\n",
              "    </tr>\n",
              "    <tr>\n",
              "      <th>3</th>\n",
              "      <td>./flowers/daisy/538920244_59899a78f8_n.jpg</td>\n",
              "      <td>0</td>\n",
              "    </tr>\n",
              "    <tr>\n",
              "      <th>4</th>\n",
              "      <td>./flowers/daisy/5632774792_0fa33d17eb_n.jpg</td>\n",
              "      <td>0</td>\n",
              "    </tr>\n",
              "  </tbody>\n",
              "</table>\n",
              "</div>"
            ],
            "text/plain": [
              "                                       filename  class\n",
              "0  ./flowers/daisy/33855966243_01b2486428_n.jpg      0\n",
              "1    ./flowers/daisy/14921511479_7b0a647795.jpg      0\n",
              "2   ./flowers/daisy/3326037909_b5ae370722_n.jpg      0\n",
              "3    ./flowers/daisy/538920244_59899a78f8_n.jpg      0\n",
              "4   ./flowers/daisy/5632774792_0fa33d17eb_n.jpg      0"
            ]
          },
          "metadata": {
            "tags": []
          },
          "execution_count": 15
        }
      ]
    },
    {
      "cell_type": "code",
      "metadata": {
        "id": "373-pYe5I4_G",
        "outputId": "30231bb8-10ed-49c5-80d8-3212392e6504",
        "colab": {
          "base_uri": "https://localhost:8080/",
          "height": 197
        }
      },
      "source": [
        "df3.head()"
      ],
      "execution_count": null,
      "outputs": [
        {
          "output_type": "execute_result",
          "data": {
            "text/html": [
              "<div>\n",
              "<style scoped>\n",
              "    .dataframe tbody tr th:only-of-type {\n",
              "        vertical-align: middle;\n",
              "    }\n",
              "\n",
              "    .dataframe tbody tr th {\n",
              "        vertical-align: top;\n",
              "    }\n",
              "\n",
              "    .dataframe thead th {\n",
              "        text-align: right;\n",
              "    }\n",
              "</style>\n",
              "<table border=\"1\" class=\"dataframe\">\n",
              "  <thead>\n",
              "    <tr style=\"text-align: right;\">\n",
              "      <th></th>\n",
              "      <th>filename</th>\n",
              "      <th>class</th>\n",
              "    </tr>\n",
              "  </thead>\n",
              "  <tbody>\n",
              "    <tr>\n",
              "      <th>0</th>\n",
              "      <td>./flowers/rose/4612784323_0bcfb978f0_n.jpg</td>\n",
              "      <td>2</td>\n",
              "    </tr>\n",
              "    <tr>\n",
              "      <th>1</th>\n",
              "      <td>./flowers/rose/898102603_2d5152f09a.jpg</td>\n",
              "      <td>2</td>\n",
              "    </tr>\n",
              "    <tr>\n",
              "      <th>2</th>\n",
              "      <td>./flowers/rose/3526860692_4c551191b1_m.jpg</td>\n",
              "      <td>2</td>\n",
              "    </tr>\n",
              "    <tr>\n",
              "      <th>3</th>\n",
              "      <td>./flowers/rose/8125886145_ae99f91fd0.jpg</td>\n",
              "      <td>2</td>\n",
              "    </tr>\n",
              "    <tr>\n",
              "      <th>4</th>\n",
              "      <td>./flowers/rose/7470985688_c1ee9105fa_n.jpg</td>\n",
              "      <td>2</td>\n",
              "    </tr>\n",
              "  </tbody>\n",
              "</table>\n",
              "</div>"
            ],
            "text/plain": [
              "                                     filename  class\n",
              "0  ./flowers/rose/4612784323_0bcfb978f0_n.jpg      2\n",
              "1     ./flowers/rose/898102603_2d5152f09a.jpg      2\n",
              "2  ./flowers/rose/3526860692_4c551191b1_m.jpg      2\n",
              "3    ./flowers/rose/8125886145_ae99f91fd0.jpg      2\n",
              "4  ./flowers/rose/7470985688_c1ee9105fa_n.jpg      2"
            ]
          },
          "metadata": {
            "tags": []
          },
          "execution_count": 16
        }
      ]
    },
    {
      "cell_type": "code",
      "metadata": {
        "id": "aDyGiPLqI6a1"
      },
      "source": [
        "train_set_percentage = .9\n",
        "\n",
        "\n",
        "train_df = df[:int(len(df)*train_set_percentage)]\n",
        "val_df = df[int(len(df)*train_set_percentage):]\n",
        "\n",
        "train_df2 = df2[:int(len(df2)*train_set_percentage)]\n",
        "val_df2 = df2[int(len(df2)*train_set_percentage):]\n",
        "\n",
        "train_df3 = df3[:int(len(df3)*train_set_percentage)]\n",
        "val_df3 = df3[int(len(df3)*train_set_percentage):]\n",
        "\n",
        "train_df4 = df4[:int(len(df4)*train_set_percentage)]\n",
        "val_df4 = df4[int(len(df4)*train_set_percentage):]\n",
        "\n",
        "train_df5 = df5[:int(len(df5)*train_set_percentage)]\n",
        "val_df5 = df5[int(len(df5)*train_set_percentage):]\n",
        "\n",
        "\n",
        "\n",
        "df_new_train = pd.concat([train_df, train_df2, train_df3, train_df4, train_df5])\n",
        "df_new_val = pd.concat([val_df, val_df2, val_df3, val_df4, val_df5])\n",
        "\n",
        "df_new_train.shape\n",
        "\n",
        "\n",
        "df = df_new_train.sample(frac=1).reset_index(drop=True)\n",
        "df_val = df_new_val.sample(frac=1).reset_index(drop=True)"
      ],
      "execution_count": null,
      "outputs": []
    },
    {
      "cell_type": "code",
      "metadata": {
        "id": "S9HGpvrrJCfQ",
        "outputId": "72b70506-8fc2-4360-b91d-61d60b5036a2",
        "colab": {
          "base_uri": "https://localhost:8080/",
          "height": 197
        }
      },
      "source": [
        "df.head()"
      ],
      "execution_count": null,
      "outputs": [
        {
          "output_type": "execute_result",
          "data": {
            "text/html": [
              "<div>\n",
              "<style scoped>\n",
              "    .dataframe tbody tr th:only-of-type {\n",
              "        vertical-align: middle;\n",
              "    }\n",
              "\n",
              "    .dataframe tbody tr th {\n",
              "        vertical-align: top;\n",
              "    }\n",
              "\n",
              "    .dataframe thead th {\n",
              "        text-align: right;\n",
              "    }\n",
              "</style>\n",
              "<table border=\"1\" class=\"dataframe\">\n",
              "  <thead>\n",
              "    <tr style=\"text-align: right;\">\n",
              "      <th></th>\n",
              "      <th>filename</th>\n",
              "      <th>class</th>\n",
              "    </tr>\n",
              "  </thead>\n",
              "  <tbody>\n",
              "    <tr>\n",
              "      <th>0</th>\n",
              "      <td>./flowers/dandelion/7280222348_a87725ca77.jpg</td>\n",
              "      <td>1</td>\n",
              "    </tr>\n",
              "    <tr>\n",
              "      <th>1</th>\n",
              "      <td>./flowers/tulip/7047408023_6e98fd1e3f.jpg</td>\n",
              "      <td>4</td>\n",
              "    </tr>\n",
              "    <tr>\n",
              "      <th>2</th>\n",
              "      <td>./flowers/dandelion/20179380768_7a2990d4e3_n.jpg</td>\n",
              "      <td>1</td>\n",
              "    </tr>\n",
              "    <tr>\n",
              "      <th>3</th>\n",
              "      <td>./flowers/rose/9160289562_ab2718d19b.jpg</td>\n",
              "      <td>2</td>\n",
              "    </tr>\n",
              "    <tr>\n",
              "      <th>4</th>\n",
              "      <td>./flowers/daisy/14554906452_35f066ffe9_n.jpg</td>\n",
              "      <td>0</td>\n",
              "    </tr>\n",
              "  </tbody>\n",
              "</table>\n",
              "</div>"
            ],
            "text/plain": [
              "                                           filename  class\n",
              "0     ./flowers/dandelion/7280222348_a87725ca77.jpg      1\n",
              "1         ./flowers/tulip/7047408023_6e98fd1e3f.jpg      4\n",
              "2  ./flowers/dandelion/20179380768_7a2990d4e3_n.jpg      1\n",
              "3          ./flowers/rose/9160289562_ab2718d19b.jpg      2\n",
              "4      ./flowers/daisy/14554906452_35f066ffe9_n.jpg      0"
            ]
          },
          "metadata": {
            "tags": []
          },
          "execution_count": 18
        }
      ]
    },
    {
      "cell_type": "code",
      "metadata": {
        "id": "POjBbos_JEKU",
        "outputId": "780f72b1-20b9-4068-ebb2-9ca0391159b2",
        "colab": {
          "base_uri": "https://localhost:8080/",
          "height": 70
        }
      },
      "source": [
        "print(df.shape)\n",
        "print(df_val.shape)\n",
        "\n",
        "df['class'].unique()"
      ],
      "execution_count": null,
      "outputs": [
        {
          "output_type": "stream",
          "text": [
            "(3664, 2)\n",
            "(410, 2)\n"
          ],
          "name": "stdout"
        },
        {
          "output_type": "execute_result",
          "data": {
            "text/plain": [
              "array([1, 4, 2, 0, 3])"
            ]
          },
          "metadata": {
            "tags": []
          },
          "execution_count": 19
        }
      ]
    },
    {
      "cell_type": "code",
      "metadata": {
        "id": "xenUlm7NJF9A",
        "outputId": "4af4aa13-785d-4646-b1f2-12150324a570",
        "colab": {
          "base_uri": "https://localhost:8080/",
          "height": 387
        }
      },
      "source": [
        "print(df['class'].value_counts())\n",
        "\n",
        "\n",
        "ax = df['class'].value_counts().plot.barh()\n",
        "ax.set_xlabel(\"Number of Examples\", fontsize=12)\n",
        "ax.set_ylabel(\"Flowers - training set\", fontsize=12)\n",
        "ax.set_yticklabels(['Dandelions','Tulips','Roses','Daisies','Sunflower'], rotation=0, fontsize=12)\n",
        "plt.show()"
      ],
      "execution_count": null,
      "outputs": [
        {
          "output_type": "stream",
          "text": [
            "1    921\n",
            "4    816\n",
            "2    657\n",
            "0    648\n",
            "3    622\n",
            "Name: class, dtype: int64\n"
          ],
          "name": "stdout"
        },
        {
          "output_type": "display_data",
          "data": {
            "image/png": "[encoded data removed]",
            "text/plain": [
              "<matplotlib.figure.Figure at 0x7f05338c7e48>"
            ]
          },
          "metadata": {
            "tags": []
          }
        }
      ]
    },
    {
      "cell_type": "code",
      "metadata": {
        "id": "UJ2JrMoaJQAP",
        "outputId": "26606504-4034-4931-f424-9ce03cf5ff09",
        "colab": {
          "base_uri": "https://localhost:8080/",
          "height": 34
        }
      },
      "source": [
        "train_filenames_list = df[\"filename\"].tolist()\n",
        "train_labels_list = df[\"class\"].astype('int32').tolist()\n",
        "\n",
        "val_filenames_list = df_val[\"filename\"].tolist()\n",
        "val_labels_list = df_val[\"class\"].astype('int32').tolist()\n",
        "\n",
        "num_classes = 5\n",
        "\n",
        "df.shape"
      ],
      "execution_count": null,
      "outputs": [
        {
          "output_type": "execute_result",
          "data": {
            "text/plain": [
              "(3664, 2)"
            ]
          },
          "metadata": {
            "tags": []
          },
          "execution_count": 21
        }
      ]
    },
    {
      "cell_type": "code",
      "metadata": {
        "id": "iNX4mbBRJU62"
      },
      "source": [
        "img_rows, img_cols = 299,299\n",
        "\n",
        "def _parse_function(filename, label):\n",
        "  image_string = tf.read_file(filename)\n",
        "  image_decoded = tf.image.decode_jpeg(image_string)\n",
        "  image_resized = tf.image.resize_images(image_decoded, [img_rows, img_cols])\n",
        "  label = tf.one_hot(label, num_classes)\n",
        "  return image_resized, label"
      ],
      "execution_count": null,
      "outputs": []
    },
    {
      "cell_type": "code",
      "metadata": {
        "id": "NLfbveOYJXBy"
      },
      "source": [
        "filenames = tf.constant(train_filenames_list)\n",
        "\n",
        "labels = tf.constant(train_labels_list)\n",
        "\n",
        "val_filenames = tf.constant(val_filenames_list)\n",
        "val_labels = tf.constant(val_labels_list)"
      ],
      "execution_count": null,
      "outputs": []
    },
    {
      "cell_type": "code",
      "metadata": {
        "id": "Y9Yuy1H0JczG"
      },
      "source": [
        "train_dataset = tf.data.Dataset.from_tensor_slices((filenames, labels))\n",
        "train_dataset = train_dataset.map(_parse_function)\n",
        "train_dataset = train_dataset.repeat(100)\n",
        "train_dataset = train_dataset.batch(32)"
      ],
      "execution_count": null,
      "outputs": []
    },
    {
      "cell_type": "code",
      "metadata": {
        "id": "nBEHOwKYJdqQ"
      },
      "source": [
        "valid_dataset = tf.data.Dataset.from_tensor_slices((val_filenames, val_labels))\n",
        "valid_dataset = valid_dataset.map(_parse_function)\n",
        "valid_dataset = valid_dataset.repeat(100)\n",
        "valid_dataset = valid_dataset.batch(32)"
      ],
      "execution_count": null,
      "outputs": []
    },
    {
      "cell_type": "code",
      "metadata": {
        "id": "o-Bk30VQRRyA"
      },
      "source": [
        "test_dataset = tf.data.Dataset.from_tensor_slices((val_filenames, val_labels))\n",
        "test_dataset = test_dataset.map(_parse_function)\n",
        "test_dataset = test_dataset.repeat(100)\n",
        "test_dataset = test_dataset.batch(32)"
      ],
      "execution_count": null,
      "outputs": []
    },
    {
      "cell_type": "code",
      "metadata": {
        "id": "j_7rg4eVLJ7N",
        "outputId": "30965d31-baa2-4b5b-ae2d-dc3872bf13a7",
        "colab": {
          "base_uri": "https://localhost:8080/",
          "height": 52
        }
      },
      "source": [
        "base_model = InceptionV3(weights='imagenet', include_top=False)"
      ],
      "execution_count": null,
      "outputs": [
        {
          "output_type": "stream",
          "text": [
            "Downloading data from https://github.com/fchollet/deep-learning-models/releases/download/v0.5/inception_v3_weights_tf_dim_ordering_tf_kernels_notop.h5\n",
            "87916544/87910968 [==============================] - 2s 0us/step\n"
          ],
          "name": "stdout"
        }
      ]
    },
    {
      "cell_type": "code",
      "metadata": {
        "id": "8KBIYEL2LLwU",
        "outputId": "249a7234-73f7-41ca-f2a2-af94ab5c8da7",
        "colab": {
          "base_uri": "https://localhost:8080/",
          "height": 11821
        }
      },
      "source": [
        "base_model.summary()"
      ],
      "execution_count": null,
      "outputs": [
        {
          "output_type": "stream",
          "text": [
            "__________________________________________________________________________________________________\n",
            "Layer (type)                    Output Shape         Param #     Connected to                     \n",
            "==================================================================================================\n",
            "input_1 (InputLayer)            (None, None, None, 3 0                                            \n",
            "__________________________________________________________________________________________________\n",
            "conv2d (Conv2D)                 (None, None, None, 3 864         input_1[0][0]                    \n",
            "__________________________________________________________________________________________________\n",
            "batch_normalization (BatchNorma (None, None, None, 3 96          conv2d[0][0]                     \n",
            "__________________________________________________________________________________________________\n",
            "activation (Activation)         (None, None, None, 3 0           batch_normalization[0][0]        \n",
            "__________________________________________________________________________________________________\n",
            "conv2d_1 (Conv2D)               (None, None, None, 3 9216        activation[0][0]                 \n",
            "__________________________________________________________________________________________________\n",
            "batch_normalization_1 (BatchNor (None, None, None, 3 96          conv2d_1[0][0]                   \n",
            "__________________________________________________________________________________________________\n",
            "activation_1 (Activation)       (None, None, None, 3 0           batch_normalization_1[0][0]      \n",
            "__________________________________________________________________________________________________\n",
            "conv2d_2 (Conv2D)               (None, None, None, 6 18432       activation_1[0][0]               \n",
            "__________________________________________________________________________________________________\n",
            "batch_normalization_2 (BatchNor (None, None, None, 6 192         conv2d_2[0][0]                   \n",
            "__________________________________________________________________________________________________\n",
            "activation_2 (Activation)       (None, None, None, 6 0           batch_normalization_2[0][0]      \n",
            "__________________________________________________________________________________________________\n",
            "max_pooling2d (MaxPooling2D)    (None, None, None, 6 0           activation_2[0][0]               \n",
            "__________________________________________________________________________________________________\n",
            "conv2d_3 (Conv2D)               (None, None, None, 8 5120        max_pooling2d[0][0]              \n",
            "__________________________________________________________________________________________________\n",
            "batch_normalization_3 (BatchNor (None, None, None, 8 240         conv2d_3[0][0]                   \n",
            "__________________________________________________________________________________________________\n",
            "activation_3 (Activation)       (None, None, None, 8 0           batch_normalization_3[0][0]      \n",
            "__________________________________________________________________________________________________\n",
            "conv2d_4 (Conv2D)               (None, None, None, 1 138240      activation_3[0][0]               \n",
            "__________________________________________________________________________________________________\n",
            "batch_normalization_4 (BatchNor (None, None, None, 1 576         conv2d_4[0][0]                   \n",
            "__________________________________________________________________________________________________\n",
            "activation_4 (Activation)       (None, None, None, 1 0           batch_normalization_4[0][0]      \n",
            "__________________________________________________________________________________________________\n",
            "max_pooling2d_1 (MaxPooling2D)  (None, None, None, 1 0           activation_4[0][0]               \n",
            "__________________________________________________________________________________________________\n",
            "conv2d_8 (Conv2D)               (None, None, None, 6 12288       max_pooling2d_1[0][0]            \n",
            "__________________________________________________________________________________________________\n",
            "batch_normalization_8 (BatchNor (None, None, None, 6 192         conv2d_8[0][0]                   \n",
            "__________________________________________________________________________________________________\n",
            "activation_8 (Activation)       (None, None, None, 6 0           batch_normalization_8[0][0]      \n",
            "__________________________________________________________________________________________________\n",
            "conv2d_6 (Conv2D)               (None, None, None, 4 9216        max_pooling2d_1[0][0]            \n",
            "__________________________________________________________________________________________________\n",
            "conv2d_9 (Conv2D)               (None, None, None, 9 55296       activation_8[0][0]               \n",
            "__________________________________________________________________________________________________\n",
            "batch_normalization_6 (BatchNor (None, None, None, 4 144         conv2d_6[0][0]                   \n",
            "__________________________________________________________________________________________________\n",
            "batch_normalization_9 (BatchNor (None, None, None, 9 288         conv2d_9[0][0]                   \n",
            "__________________________________________________________________________________________________\n",
            "activation_6 (Activation)       (None, None, None, 4 0           batch_normalization_6[0][0]      \n",
            "__________________________________________________________________________________________________\n",
            "activation_9 (Activation)       (None, None, None, 9 0           batch_normalization_9[0][0]      \n",
            "__________________________________________________________________________________________________\n",
            "average_pooling2d (AveragePooli (None, None, None, 1 0           max_pooling2d_1[0][0]            \n",
            "__________________________________________________________________________________________________\n",
            "conv2d_5 (Conv2D)               (None, None, None, 6 12288       max_pooling2d_1[0][0]            \n",
            "__________________________________________________________________________________________________\n",
            "conv2d_7 (Conv2D)               (None, None, None, 6 76800       activation_6[0][0]               \n",
            "__________________________________________________________________________________________________\n",
            "conv2d_10 (Conv2D)              (None, None, None, 9 82944       activation_9[0][0]               \n",
            "__________________________________________________________________________________________________\n",
            "conv2d_11 (Conv2D)              (None, None, None, 3 6144        average_pooling2d[0][0]          \n",
            "__________________________________________________________________________________________________\n",
            "batch_normalization_5 (BatchNor (None, None, None, 6 192         conv2d_5[0][0]                   \n",
            "__________________________________________________________________________________________________\n",
            "batch_normalization_7 (BatchNor (None, None, None, 6 192         conv2d_7[0][0]                   \n",
            "__________________________________________________________________________________________________\n",
            "batch_normalization_10 (BatchNo (None, None, None, 9 288         conv2d_10[0][0]                  \n",
            "__________________________________________________________________________________________________\n",
            "batch_normalization_11 (BatchNo (None, None, None, 3 96          conv2d_11[0][0]                  \n",
            "__________________________________________________________________________________________________\n",
            "activation_5 (Activation)       (None, None, None, 6 0           batch_normalization_5[0][0]      \n",
            "__________________________________________________________________________________________________\n",
            "activation_7 (Activation)       (None, None, None, 6 0           batch_normalization_7[0][0]      \n",
            "__________________________________________________________________________________________________\n",
            "activation_10 (Activation)      (None, None, None, 9 0           batch_normalization_10[0][0]     \n",
            "__________________________________________________________________________________________________\n",
            "activation_11 (Activation)      (None, None, None, 3 0           batch_normalization_11[0][0]     \n",
            "__________________________________________________________________________________________________\n",
            "mixed0 (Concatenate)            (None, None, None, 2 0           activation_5[0][0]               \n",
            "                                                                 activation_7[0][0]               \n",
            "                                                                 activation_10[0][0]              \n",
            "                                                                 activation_11[0][0]              \n",
            "__________________________________________________________________________________________________\n",
            "conv2d_15 (Conv2D)              (None, None, None, 6 16384       mixed0[0][0]                     \n",
            "__________________________________________________________________________________________________\n",
            "batch_normalization_15 (BatchNo (None, None, None, 6 192         conv2d_15[0][0]                  \n",
            "__________________________________________________________________________________________________\n",
            "activation_15 (Activation)      (None, None, None, 6 0           batch_normalization_15[0][0]     \n",
            "__________________________________________________________________________________________________\n",
            "conv2d_13 (Conv2D)              (None, None, None, 4 12288       mixed0[0][0]                     \n",
            "__________________________________________________________________________________________________\n",
            "conv2d_16 (Conv2D)              (None, None, None, 9 55296       activation_15[0][0]              \n",
            "__________________________________________________________________________________________________\n",
            "batch_normalization_13 (BatchNo (None, None, None, 4 144         conv2d_13[0][0]                  \n",
            "__________________________________________________________________________________________________\n",
            "batch_normalization_16 (BatchNo (None, None, None, 9 288         conv2d_16[0][0]                  \n",
            "__________________________________________________________________________________________________\n",
            "activation_13 (Activation)      (None, None, None, 4 0           batch_normalization_13[0][0]     \n",
            "__________________________________________________________________________________________________\n",
            "activation_16 (Activation)      (None, None, None, 9 0           batch_normalization_16[0][0]     \n",
            "__________________________________________________________________________________________________\n",
            "average_pooling2d_1 (AveragePoo (None, None, None, 2 0           mixed0[0][0]                     \n",
            "__________________________________________________________________________________________________\n",
            "conv2d_12 (Conv2D)              (None, None, None, 6 16384       mixed0[0][0]                     \n",
            "__________________________________________________________________________________________________\n",
            "conv2d_14 (Conv2D)              (None, None, None, 6 76800       activation_13[0][0]              \n",
            "__________________________________________________________________________________________________\n",
            "conv2d_17 (Conv2D)              (None, None, None, 9 82944       activation_16[0][0]              \n",
            "__________________________________________________________________________________________________\n",
            "conv2d_18 (Conv2D)              (None, None, None, 6 16384       average_pooling2d_1[0][0]        \n",
            "__________________________________________________________________________________________________\n",
            "batch_normalization_12 (BatchNo (None, None, None, 6 192         conv2d_12[0][0]                  \n",
            "__________________________________________________________________________________________________\n",
            "batch_normalization_14 (BatchNo (None, None, None, 6 192         conv2d_14[0][0]                  \n",
            "__________________________________________________________________________________________________\n",
            "batch_normalization_17 (BatchNo (None, None, None, 9 288         conv2d_17[0][0]                  \n",
            "__________________________________________________________________________________________________\n",
            "batch_normalization_18 (BatchNo (None, None, None, 6 192         conv2d_18[0][0]                  \n",
            "__________________________________________________________________________________________________\n",
            "activation_12 (Activation)      (None, None, None, 6 0           batch_normalization_12[0][0]     \n",
            "__________________________________________________________________________________________________\n",
            "activation_14 (Activation)      (None, None, None, 6 0           batch_normalization_14[0][0]     \n",
            "__________________________________________________________________________________________________\n",
            "activation_17 (Activation)      (None, None, None, 9 0           batch_normalization_17[0][0]     \n",
            "__________________________________________________________________________________________________\n",
            "activation_18 (Activation)      (None, None, None, 6 0           batch_normalization_18[0][0]     \n",
            "__________________________________________________________________________________________________\n",
            "mixed1 (Concatenate)            (None, None, None, 2 0           activation_12[0][0]              \n",
            "                                                                 activation_14[0][0]              \n",
            "                                                                 activation_17[0][0]              \n",
            "                                                                 activation_18[0][0]              \n",
            "__________________________________________________________________________________________________\n",
            "conv2d_22 (Conv2D)              (None, None, None, 6 18432       mixed1[0][0]                     \n",
            "__________________________________________________________________________________________________\n",
            "batch_normalization_22 (BatchNo (None, None, None, 6 192         conv2d_22[0][0]                  \n",
            "__________________________________________________________________________________________________\n",
            "activation_22 (Activation)      (None, None, None, 6 0           batch_normalization_22[0][0]     \n",
            "__________________________________________________________________________________________________\n",
            "conv2d_20 (Conv2D)              (None, None, None, 4 13824       mixed1[0][0]                     \n",
            "__________________________________________________________________________________________________\n",
            "conv2d_23 (Conv2D)              (None, None, None, 9 55296       activation_22[0][0]              \n",
            "__________________________________________________________________________________________________\n",
            "batch_normalization_20 (BatchNo (None, None, None, 4 144         conv2d_20[0][0]                  \n",
            "__________________________________________________________________________________________________\n",
            "batch_normalization_23 (BatchNo (None, None, None, 9 288         conv2d_23[0][0]                  \n",
            "__________________________________________________________________________________________________\n",
            "activation_20 (Activation)      (None, None, None, 4 0           batch_normalization_20[0][0]     \n",
            "__________________________________________________________________________________________________\n",
            "activation_23 (Activation)      (None, None, None, 9 0           batch_normalization_23[0][0]     \n",
            "__________________________________________________________________________________________________\n",
            "average_pooling2d_2 (AveragePoo (None, None, None, 2 0           mixed1[0][0]                     \n",
            "__________________________________________________________________________________________________\n",
            "conv2d_19 (Conv2D)              (None, None, None, 6 18432       mixed1[0][0]                     \n",
            "__________________________________________________________________________________________________\n",
            "conv2d_21 (Conv2D)              (None, None, None, 6 76800       activation_20[0][0]              \n",
            "__________________________________________________________________________________________________\n",
            "conv2d_24 (Conv2D)              (None, None, None, 9 82944       activation_23[0][0]              \n",
            "__________________________________________________________________________________________________\n",
            "conv2d_25 (Conv2D)              (None, None, None, 6 18432       average_pooling2d_2[0][0]        \n",
            "__________________________________________________________________________________________________\n",
            "batch_normalization_19 (BatchNo (None, None, None, 6 192         conv2d_19[0][0]                  \n",
            "__________________________________________________________________________________________________\n",
            "batch_normalization_21 (BatchNo (None, None, None, 6 192         conv2d_21[0][0]                  \n",
            "__________________________________________________________________________________________________\n",
            "batch_normalization_24 (BatchNo (None, None, None, 9 288         conv2d_24[0][0]                  \n",
            "__________________________________________________________________________________________________\n",
            "batch_normalization_25 (BatchNo (None, None, None, 6 192         conv2d_25[0][0]                  \n",
            "__________________________________________________________________________________________________\n",
            "activation_19 (Activation)      (None, None, None, 6 0           batch_normalization_19[0][0]     \n",
            "__________________________________________________________________________________________________\n",
            "activation_21 (Activation)      (None, None, None, 6 0           batch_normalization_21[0][0]     \n",
            "__________________________________________________________________________________________________\n",
            "activation_24 (Activation)      (None, None, None, 9 0           batch_normalization_24[0][0]     \n",
            "__________________________________________________________________________________________________\n",
            "activation_25 (Activation)      (None, None, None, 6 0           batch_normalization_25[0][0]     \n",
            "__________________________________________________________________________________________________\n",
            "mixed2 (Concatenate)            (None, None, None, 2 0           activation_19[0][0]              \n",
            "                                                                 activation_21[0][0]              \n",
            "                                                                 activation_24[0][0]              \n",
            "                                                                 activation_25[0][0]              \n",
            "__________________________________________________________________________________________________\n",
            "conv2d_27 (Conv2D)              (None, None, None, 6 18432       mixed2[0][0]                     \n",
            "__________________________________________________________________________________________________\n",
            "batch_normalization_27 (BatchNo (None, None, None, 6 192         conv2d_27[0][0]                  \n",
            "__________________________________________________________________________________________________\n",
            "activation_27 (Activation)      (None, None, None, 6 0           batch_normalization_27[0][0]     \n",
            "__________________________________________________________________________________________________\n",
            "conv2d_28 (Conv2D)              (None, None, None, 9 55296       activation_27[0][0]              \n",
            "__________________________________________________________________________________________________\n",
            "batch_normalization_28 (BatchNo (None, None, None, 9 288         conv2d_28[0][0]                  \n",
            "__________________________________________________________________________________________________\n",
            "activation_28 (Activation)      (None, None, None, 9 0           batch_normalization_28[0][0]     \n",
            "__________________________________________________________________________________________________\n",
            "conv2d_26 (Conv2D)              (None, None, None, 3 995328      mixed2[0][0]                     \n",
            "__________________________________________________________________________________________________\n",
            "conv2d_29 (Conv2D)              (None, None, None, 9 82944       activation_28[0][0]              \n",
            "__________________________________________________________________________________________________\n",
            "batch_normalization_26 (BatchNo (None, None, None, 3 1152        conv2d_26[0][0]                  \n",
            "__________________________________________________________________________________________________\n",
            "batch_normalization_29 (BatchNo (None, None, None, 9 288         conv2d_29[0][0]                  \n",
            "__________________________________________________________________________________________________\n",
            "activation_26 (Activation)      (None, None, None, 3 0           batch_normalization_26[0][0]     \n",
            "__________________________________________________________________________________________________\n",
            "activation_29 (Activation)      (None, None, None, 9 0           batch_normalization_29[0][0]     \n",
            "__________________________________________________________________________________________________\n",
            "max_pooling2d_2 (MaxPooling2D)  (None, None, None, 2 0           mixed2[0][0]                     \n",
            "__________________________________________________________________________________________________\n",
            "mixed3 (Concatenate)            (None, None, None, 7 0           activation_26[0][0]              \n",
            "                                                                 activation_29[0][0]              \n",
            "                                                                 max_pooling2d_2[0][0]            \n",
            "__________________________________________________________________________________________________\n",
            "conv2d_34 (Conv2D)              (None, None, None, 1 98304       mixed3[0][0]                     \n",
            "__________________________________________________________________________________________________\n",
            "batch_normalization_34 (BatchNo (None, None, None, 1 384         conv2d_34[0][0]                  \n",
            "__________________________________________________________________________________________________\n",
            "activation_34 (Activation)      (None, None, None, 1 0           batch_normalization_34[0][0]     \n",
            "__________________________________________________________________________________________________\n",
            "conv2d_35 (Conv2D)              (None, None, None, 1 114688      activation_34[0][0]              \n",
            "__________________________________________________________________________________________________\n",
            "batch_normalization_35 (BatchNo (None, None, None, 1 384         conv2d_35[0][0]                  \n",
            "__________________________________________________________________________________________________\n",
            "activation_35 (Activation)      (None, None, None, 1 0           batch_normalization_35[0][0]     \n",
            "__________________________________________________________________________________________________\n",
            "conv2d_31 (Conv2D)              (None, None, None, 1 98304       mixed3[0][0]                     \n",
            "__________________________________________________________________________________________________\n",
            "conv2d_36 (Conv2D)              (None, None, None, 1 114688      activation_35[0][0]              \n",
            "__________________________________________________________________________________________________\n",
            "batch_normalization_31 (BatchNo (None, None, None, 1 384         conv2d_31[0][0]                  \n",
            "__________________________________________________________________________________________________\n",
            "batch_normalization_36 (BatchNo (None, None, None, 1 384         conv2d_36[0][0]                  \n",
            "__________________________________________________________________________________________________\n",
            "activation_31 (Activation)      (None, None, None, 1 0           batch_normalization_31[0][0]     \n",
            "__________________________________________________________________________________________________\n",
            "activation_36 (Activation)      (None, None, None, 1 0           batch_normalization_36[0][0]     \n",
            "__________________________________________________________________________________________________\n",
            "conv2d_32 (Conv2D)              (None, None, None, 1 114688      activation_31[0][0]              \n",
            "__________________________________________________________________________________________________\n",
            "conv2d_37 (Conv2D)              (None, None, None, 1 114688      activation_36[0][0]              \n",
            "__________________________________________________________________________________________________\n",
            "batch_normalization_32 (BatchNo (None, None, None, 1 384         conv2d_32[0][0]                  \n",
            "__________________________________________________________________________________________________\n",
            "batch_normalization_37 (BatchNo (None, None, None, 1 384         conv2d_37[0][0]                  \n",
            "__________________________________________________________________________________________________\n",
            "activation_32 (Activation)      (None, None, None, 1 0           batch_normalization_32[0][0]     \n",
            "__________________________________________________________________________________________________\n",
            "activation_37 (Activation)      (None, None, None, 1 0           batch_normalization_37[0][0]     \n",
            "__________________________________________________________________________________________________\n",
            "average_pooling2d_3 (AveragePoo (None, None, None, 7 0           mixed3[0][0]                     \n",
            "__________________________________________________________________________________________________\n",
            "conv2d_30 (Conv2D)              (None, None, None, 1 147456      mixed3[0][0]                     \n",
            "__________________________________________________________________________________________________\n",
            "conv2d_33 (Conv2D)              (None, None, None, 1 172032      activation_32[0][0]              \n",
            "__________________________________________________________________________________________________\n",
            "conv2d_38 (Conv2D)              (None, None, None, 1 172032      activation_37[0][0]              \n",
            "__________________________________________________________________________________________________\n",
            "conv2d_39 (Conv2D)              (None, None, None, 1 147456      average_pooling2d_3[0][0]        \n",
            "__________________________________________________________________________________________________\n",
            "batch_normalization_30 (BatchNo (None, None, None, 1 576         conv2d_30[0][0]                  \n",
            "__________________________________________________________________________________________________\n",
            "batch_normalization_33 (BatchNo (None, None, None, 1 576         conv2d_33[0][0]                  \n",
            "__________________________________________________________________________________________________\n",
            "batch_normalization_38 (BatchNo (None, None, None, 1 576         conv2d_38[0][0]                  \n",
            "__________________________________________________________________________________________________\n",
            "batch_normalization_39 (BatchNo (None, None, None, 1 576         conv2d_39[0][0]                  \n",
            "__________________________________________________________________________________________________\n",
            "activation_30 (Activation)      (None, None, None, 1 0           batch_normalization_30[0][0]     \n",
            "__________________________________________________________________________________________________\n",
            "activation_33 (Activation)      (None, None, None, 1 0           batch_normalization_33[0][0]     \n",
            "__________________________________________________________________________________________________\n",
            "activation_38 (Activation)      (None, None, None, 1 0           batch_normalization_38[0][0]     \n",
            "__________________________________________________________________________________________________\n",
            "activation_39 (Activation)      (None, None, None, 1 0           batch_normalization_39[0][0]     \n",
            "__________________________________________________________________________________________________\n",
            "mixed4 (Concatenate)            (None, None, None, 7 0           activation_30[0][0]              \n",
            "                                                                 activation_33[0][0]              \n",
            "                                                                 activation_38[0][0]              \n",
            "                                                                 activation_39[0][0]              \n",
            "__________________________________________________________________________________________________\n",
            "conv2d_44 (Conv2D)              (None, None, None, 1 122880      mixed4[0][0]                     \n",
            "__________________________________________________________________________________________________\n",
            "batch_normalization_44 (BatchNo (None, None, None, 1 480         conv2d_44[0][0]                  \n",
            "__________________________________________________________________________________________________\n",
            "activation_44 (Activation)      (None, None, None, 1 0           batch_normalization_44[0][0]     \n",
            "__________________________________________________________________________________________________\n",
            "conv2d_45 (Conv2D)              (None, None, None, 1 179200      activation_44[0][0]              \n",
            "__________________________________________________________________________________________________\n",
            "batch_normalization_45 (BatchNo (None, None, None, 1 480         conv2d_45[0][0]                  \n",
            "__________________________________________________________________________________________________\n",
            "activation_45 (Activation)      (None, None, None, 1 0           batch_normalization_45[0][0]     \n",
            "__________________________________________________________________________________________________\n",
            "conv2d_41 (Conv2D)              (None, None, None, 1 122880      mixed4[0][0]                     \n",
            "__________________________________________________________________________________________________\n",
            "conv2d_46 (Conv2D)              (None, None, None, 1 179200      activation_45[0][0]              \n",
            "__________________________________________________________________________________________________\n",
            "batch_normalization_41 (BatchNo (None, None, None, 1 480         conv2d_41[0][0]                  \n",
            "__________________________________________________________________________________________________\n",
            "batch_normalization_46 (BatchNo (None, None, None, 1 480         conv2d_46[0][0]                  \n",
            "__________________________________________________________________________________________________\n",
            "activation_41 (Activation)      (None, None, None, 1 0           batch_normalization_41[0][0]     \n",
            "__________________________________________________________________________________________________\n",
            "activation_46 (Activation)      (None, None, None, 1 0           batch_normalization_46[0][0]     \n",
            "__________________________________________________________________________________________________\n",
            "conv2d_42 (Conv2D)              (None, None, None, 1 179200      activation_41[0][0]              \n",
            "__________________________________________________________________________________________________\n",
            "conv2d_47 (Conv2D)              (None, None, None, 1 179200      activation_46[0][0]              \n",
            "__________________________________________________________________________________________________\n",
            "batch_normalization_42 (BatchNo (None, None, None, 1 480         conv2d_42[0][0]                  \n",
            "__________________________________________________________________________________________________\n",
            "batch_normalization_47 (BatchNo (None, None, None, 1 480         conv2d_47[0][0]                  \n",
            "__________________________________________________________________________________________________\n",
            "activation_42 (Activation)      (None, None, None, 1 0           batch_normalization_42[0][0]     \n",
            "__________________________________________________________________________________________________\n",
            "activation_47 (Activation)      (None, None, None, 1 0           batch_normalization_47[0][0]     \n",
            "__________________________________________________________________________________________________\n",
            "average_pooling2d_4 (AveragePoo (None, None, None, 7 0           mixed4[0][0]                     \n",
            "__________________________________________________________________________________________________\n",
            "conv2d_40 (Conv2D)              (None, None, None, 1 147456      mixed4[0][0]                     \n",
            "__________________________________________________________________________________________________\n",
            "conv2d_43 (Conv2D)              (None, None, None, 1 215040      activation_42[0][0]              \n",
            "__________________________________________________________________________________________________\n",
            "conv2d_48 (Conv2D)              (None, None, None, 1 215040      activation_47[0][0]              \n",
            "__________________________________________________________________________________________________\n",
            "conv2d_49 (Conv2D)              (None, None, None, 1 147456      average_pooling2d_4[0][0]        \n",
            "__________________________________________________________________________________________________\n",
            "batch_normalization_40 (BatchNo (None, None, None, 1 576         conv2d_40[0][0]                  \n",
            "__________________________________________________________________________________________________\n",
            "batch_normalization_43 (BatchNo (None, None, None, 1 576         conv2d_43[0][0]                  \n",
            "__________________________________________________________________________________________________\n",
            "batch_normalization_48 (BatchNo (None, None, None, 1 576         conv2d_48[0][0]                  \n",
            "__________________________________________________________________________________________________\n",
            "batch_normalization_49 (BatchNo (None, None, None, 1 576         conv2d_49[0][0]                  \n",
            "__________________________________________________________________________________________________\n",
            "activation_40 (Activation)      (None, None, None, 1 0           batch_normalization_40[0][0]     \n",
            "__________________________________________________________________________________________________\n",
            "activation_43 (Activation)      (None, None, None, 1 0           batch_normalization_43[0][0]     \n",
            "__________________________________________________________________________________________________\n",
            "activation_48 (Activation)      (None, None, None, 1 0           batch_normalization_48[0][0]     \n",
            "__________________________________________________________________________________________________\n",
            "activation_49 (Activation)      (None, None, None, 1 0           batch_normalization_49[0][0]     \n",
            "__________________________________________________________________________________________________\n",
            "mixed5 (Concatenate)            (None, None, None, 7 0           activation_40[0][0]              \n",
            "                                                                 activation_43[0][0]              \n",
            "                                                                 activation_48[0][0]              \n",
            "                                                                 activation_49[0][0]              \n",
            "__________________________________________________________________________________________________\n",
            "conv2d_54 (Conv2D)              (None, None, None, 1 122880      mixed5[0][0]                     \n",
            "__________________________________________________________________________________________________\n",
            "batch_normalization_54 (BatchNo (None, None, None, 1 480         conv2d_54[0][0]                  \n",
            "__________________________________________________________________________________________________\n",
            "activation_54 (Activation)      (None, None, None, 1 0           batch_normalization_54[0][0]     \n",
            "__________________________________________________________________________________________________\n",
            "conv2d_55 (Conv2D)              (None, None, None, 1 179200      activation_54[0][0]              \n",
            "__________________________________________________________________________________________________\n",
            "batch_normalization_55 (BatchNo (None, None, None, 1 480         conv2d_55[0][0]                  \n",
            "__________________________________________________________________________________________________\n",
            "activation_55 (Activation)      (None, None, None, 1 0           batch_normalization_55[0][0]     \n",
            "__________________________________________________________________________________________________\n",
            "conv2d_51 (Conv2D)              (None, None, None, 1 122880      mixed5[0][0]                     \n",
            "__________________________________________________________________________________________________\n",
            "conv2d_56 (Conv2D)              (None, None, None, 1 179200      activation_55[0][0]              \n",
            "__________________________________________________________________________________________________\n",
            "batch_normalization_51 (BatchNo (None, None, None, 1 480         conv2d_51[0][0]                  \n",
            "__________________________________________________________________________________________________\n",
            "batch_normalization_56 (BatchNo (None, None, None, 1 480         conv2d_56[0][0]                  \n",
            "__________________________________________________________________________________________________\n",
            "activation_51 (Activation)      (None, None, None, 1 0           batch_normalization_51[0][0]     \n",
            "__________________________________________________________________________________________________\n",
            "activation_56 (Activation)      (None, None, None, 1 0           batch_normalization_56[0][0]     \n",
            "__________________________________________________________________________________________________\n",
            "conv2d_52 (Conv2D)              (None, None, None, 1 179200      activation_51[0][0]              \n",
            "__________________________________________________________________________________________________\n",
            "conv2d_57 (Conv2D)              (None, None, None, 1 179200      activation_56[0][0]              \n",
            "__________________________________________________________________________________________________\n",
            "batch_normalization_52 (BatchNo (None, None, None, 1 480         conv2d_52[0][0]                  \n",
            "__________________________________________________________________________________________________\n",
            "batch_normalization_57 (BatchNo (None, None, None, 1 480         conv2d_57[0][0]                  \n",
            "__________________________________________________________________________________________________\n",
            "activation_52 (Activation)      (None, None, None, 1 0           batch_normalization_52[0][0]     \n",
            "__________________________________________________________________________________________________\n",
            "activation_57 (Activation)      (None, None, None, 1 0           batch_normalization_57[0][0]     \n",
            "__________________________________________________________________________________________________\n",
            "average_pooling2d_5 (AveragePoo (None, None, None, 7 0           mixed5[0][0]                     \n",
            "__________________________________________________________________________________________________\n",
            "conv2d_50 (Conv2D)              (None, None, None, 1 147456      mixed5[0][0]                     \n",
            "__________________________________________________________________________________________________\n",
            "conv2d_53 (Conv2D)              (None, None, None, 1 215040      activation_52[0][0]              \n",
            "__________________________________________________________________________________________________\n",
            "conv2d_58 (Conv2D)              (None, None, None, 1 215040      activation_57[0][0]              \n",
            "__________________________________________________________________________________________________\n",
            "conv2d_59 (Conv2D)              (None, None, None, 1 147456      average_pooling2d_5[0][0]        \n",
            "__________________________________________________________________________________________________\n",
            "batch_normalization_50 (BatchNo (None, None, None, 1 576         conv2d_50[0][0]                  \n",
            "__________________________________________________________________________________________________\n",
            "batch_normalization_53 (BatchNo (None, None, None, 1 576         conv2d_53[0][0]                  \n",
            "__________________________________________________________________________________________________\n",
            "batch_normalization_58 (BatchNo (None, None, None, 1 576         conv2d_58[0][0]                  \n",
            "__________________________________________________________________________________________________\n",
            "batch_normalization_59 (BatchNo (None, None, None, 1 576         conv2d_59[0][0]                  \n",
            "__________________________________________________________________________________________________\n",
            "activation_50 (Activation)      (None, None, None, 1 0           batch_normalization_50[0][0]     \n",
            "__________________________________________________________________________________________________\n",
            "activation_53 (Activation)      (None, None, None, 1 0           batch_normalization_53[0][0]     \n",
            "__________________________________________________________________________________________________\n",
            "activation_58 (Activation)      (None, None, None, 1 0           batch_normalization_58[0][0]     \n",
            "__________________________________________________________________________________________________\n",
            "activation_59 (Activation)      (None, None, None, 1 0           batch_normalization_59[0][0]     \n",
            "__________________________________________________________________________________________________\n",
            "mixed6 (Concatenate)            (None, None, None, 7 0           activation_50[0][0]              \n",
            "                                                                 activation_53[0][0]              \n",
            "                                                                 activation_58[0][0]              \n",
            "                                                                 activation_59[0][0]              \n",
            "__________________________________________________________________________________________________\n",
            "conv2d_64 (Conv2D)              (None, None, None, 1 147456      mixed6[0][0]                     \n",
            "__________________________________________________________________________________________________\n",
            "batch_normalization_64 (BatchNo (None, None, None, 1 576         conv2d_64[0][0]                  \n",
            "__________________________________________________________________________________________________\n",
            "activation_64 (Activation)      (None, None, None, 1 0           batch_normalization_64[0][0]     \n",
            "__________________________________________________________________________________________________\n",
            "conv2d_65 (Conv2D)              (None, None, None, 1 258048      activation_64[0][0]              \n",
            "__________________________________________________________________________________________________\n",
            "batch_normalization_65 (BatchNo (None, None, None, 1 576         conv2d_65[0][0]                  \n",
            "__________________________________________________________________________________________________\n",
            "activation_65 (Activation)      (None, None, None, 1 0           batch_normalization_65[0][0]     \n",
            "__________________________________________________________________________________________________\n",
            "conv2d_61 (Conv2D)              (None, None, None, 1 147456      mixed6[0][0]                     \n",
            "__________________________________________________________________________________________________\n",
            "conv2d_66 (Conv2D)              (None, None, None, 1 258048      activation_65[0][0]              \n",
            "__________________________________________________________________________________________________\n",
            "batch_normalization_61 (BatchNo (None, None, None, 1 576         conv2d_61[0][0]                  \n",
            "__________________________________________________________________________________________________\n",
            "batch_normalization_66 (BatchNo (None, None, None, 1 576         conv2d_66[0][0]                  \n",
            "__________________________________________________________________________________________________\n",
            "activation_61 (Activation)      (None, None, None, 1 0           batch_normalization_61[0][0]     \n",
            "__________________________________________________________________________________________________\n",
            "activation_66 (Activation)      (None, None, None, 1 0           batch_normalization_66[0][0]     \n",
            "__________________________________________________________________________________________________\n",
            "conv2d_62 (Conv2D)              (None, None, None, 1 258048      activation_61[0][0]              \n",
            "__________________________________________________________________________________________________\n",
            "conv2d_67 (Conv2D)              (None, None, None, 1 258048      activation_66[0][0]              \n",
            "__________________________________________________________________________________________________\n",
            "batch_normalization_62 (BatchNo (None, None, None, 1 576         conv2d_62[0][0]                  \n",
            "__________________________________________________________________________________________________\n",
            "batch_normalization_67 (BatchNo (None, None, None, 1 576         conv2d_67[0][0]                  \n",
            "__________________________________________________________________________________________________\n",
            "activation_62 (Activation)      (None, None, None, 1 0           batch_normalization_62[0][0]     \n",
            "__________________________________________________________________________________________________\n",
            "activation_67 (Activation)      (None, None, None, 1 0           batch_normalization_67[0][0]     \n",
            "__________________________________________________________________________________________________\n",
            "average_pooling2d_6 (AveragePoo (None, None, None, 7 0           mixed6[0][0]                     \n",
            "__________________________________________________________________________________________________\n",
            "conv2d_60 (Conv2D)              (None, None, None, 1 147456      mixed6[0][0]                     \n",
            "__________________________________________________________________________________________________\n",
            "conv2d_63 (Conv2D)              (None, None, None, 1 258048      activation_62[0][0]              \n",
            "__________________________________________________________________________________________________\n",
            "conv2d_68 (Conv2D)              (None, None, None, 1 258048      activation_67[0][0]              \n",
            "__________________________________________________________________________________________________\n",
            "conv2d_69 (Conv2D)              (None, None, None, 1 147456      average_pooling2d_6[0][0]        \n",
            "__________________________________________________________________________________________________\n",
            "batch_normalization_60 (BatchNo (None, None, None, 1 576         conv2d_60[0][0]                  \n",
            "__________________________________________________________________________________________________\n",
            "batch_normalization_63 (BatchNo (None, None, None, 1 576         conv2d_63[0][0]                  \n",
            "__________________________________________________________________________________________________\n",
            "batch_normalization_68 (BatchNo (None, None, None, 1 576         conv2d_68[0][0]                  \n",
            "__________________________________________________________________________________________________\n",
            "batch_normalization_69 (BatchNo (None, None, None, 1 576         conv2d_69[0][0]                  \n",
            "__________________________________________________________________________________________________\n",
            "activation_60 (Activation)      (None, None, None, 1 0           batch_normalization_60[0][0]     \n",
            "__________________________________________________________________________________________________\n",
            "activation_63 (Activation)      (None, None, None, 1 0           batch_normalization_63[0][0]     \n",
            "__________________________________________________________________________________________________\n",
            "activation_68 (Activation)      (None, None, None, 1 0           batch_normalization_68[0][0]     \n",
            "__________________________________________________________________________________________________\n",
            "activation_69 (Activation)      (None, None, None, 1 0           batch_normalization_69[0][0]     \n",
            "__________________________________________________________________________________________________\n",
            "mixed7 (Concatenate)            (None, None, None, 7 0           activation_60[0][0]              \n",
            "                                                                 activation_63[0][0]              \n",
            "                                                                 activation_68[0][0]              \n",
            "                                                                 activation_69[0][0]              \n",
            "__________________________________________________________________________________________________\n",
            "conv2d_72 (Conv2D)              (None, None, None, 1 147456      mixed7[0][0]                     \n",
            "__________________________________________________________________________________________________\n",
            "batch_normalization_72 (BatchNo (None, None, None, 1 576         conv2d_72[0][0]                  \n",
            "__________________________________________________________________________________________________\n",
            "activation_72 (Activation)      (None, None, None, 1 0           batch_normalization_72[0][0]     \n",
            "__________________________________________________________________________________________________\n",
            "conv2d_73 (Conv2D)              (None, None, None, 1 258048      activation_72[0][0]              \n",
            "__________________________________________________________________________________________________\n",
            "batch_normalization_73 (BatchNo (None, None, None, 1 576         conv2d_73[0][0]                  \n",
            "__________________________________________________________________________________________________\n",
            "activation_73 (Activation)      (None, None, None, 1 0           batch_normalization_73[0][0]     \n",
            "__________________________________________________________________________________________________\n",
            "conv2d_70 (Conv2D)              (None, None, None, 1 147456      mixed7[0][0]                     \n",
            "__________________________________________________________________________________________________\n",
            "conv2d_74 (Conv2D)              (None, None, None, 1 258048      activation_73[0][0]              \n",
            "__________________________________________________________________________________________________\n",
            "batch_normalization_70 (BatchNo (None, None, None, 1 576         conv2d_70[0][0]                  \n",
            "__________________________________________________________________________________________________\n",
            "batch_normalization_74 (BatchNo (None, None, None, 1 576         conv2d_74[0][0]                  \n",
            "__________________________________________________________________________________________________\n",
            "activation_70 (Activation)      (None, None, None, 1 0           batch_normalization_70[0][0]     \n",
            "__________________________________________________________________________________________________\n",
            "activation_74 (Activation)      (None, None, None, 1 0           batch_normalization_74[0][0]     \n",
            "__________________________________________________________________________________________________\n",
            "conv2d_71 (Conv2D)              (None, None, None, 3 552960      activation_70[0][0]              \n",
            "__________________________________________________________________________________________________\n",
            "conv2d_75 (Conv2D)              (None, None, None, 1 331776      activation_74[0][0]              \n",
            "__________________________________________________________________________________________________\n",
            "batch_normalization_71 (BatchNo (None, None, None, 3 960         conv2d_71[0][0]                  \n",
            "__________________________________________________________________________________________________\n",
            "batch_normalization_75 (BatchNo (None, None, None, 1 576         conv2d_75[0][0]                  \n",
            "__________________________________________________________________________________________________\n",
            "activation_71 (Activation)      (None, None, None, 3 0           batch_normalization_71[0][0]     \n",
            "__________________________________________________________________________________________________\n",
            "activation_75 (Activation)      (None, None, None, 1 0           batch_normalization_75[0][0]     \n",
            "__________________________________________________________________________________________________\n",
            "max_pooling2d_3 (MaxPooling2D)  (None, None, None, 7 0           mixed7[0][0]                     \n",
            "__________________________________________________________________________________________________\n",
            "mixed8 (Concatenate)            (None, None, None, 1 0           activation_71[0][0]              \n",
            "                                                                 activation_75[0][0]              \n",
            "                                                                 max_pooling2d_3[0][0]            \n",
            "__________________________________________________________________________________________________\n",
            "conv2d_80 (Conv2D)              (None, None, None, 4 573440      mixed8[0][0]                     \n",
            "__________________________________________________________________________________________________\n",
            "batch_normalization_80 (BatchNo (None, None, None, 4 1344        conv2d_80[0][0]                  \n",
            "__________________________________________________________________________________________________\n",
            "activation_80 (Activation)      (None, None, None, 4 0           batch_normalization_80[0][0]     \n",
            "__________________________________________________________________________________________________\n",
            "conv2d_77 (Conv2D)              (None, None, None, 3 491520      mixed8[0][0]                     \n",
            "__________________________________________________________________________________________________\n",
            "conv2d_81 (Conv2D)              (None, None, None, 3 1548288     activation_80[0][0]              \n",
            "__________________________________________________________________________________________________\n",
            "batch_normalization_77 (BatchNo (None, None, None, 3 1152        conv2d_77[0][0]                  \n",
            "__________________________________________________________________________________________________\n",
            "batch_normalization_81 (BatchNo (None, None, None, 3 1152        conv2d_81[0][0]                  \n",
            "__________________________________________________________________________________________________\n",
            "activation_77 (Activation)      (None, None, None, 3 0           batch_normalization_77[0][0]     \n",
            "__________________________________________________________________________________________________\n",
            "activation_81 (Activation)      (None, None, None, 3 0           batch_normalization_81[0][0]     \n",
            "__________________________________________________________________________________________________\n",
            "conv2d_78 (Conv2D)              (None, None, None, 3 442368      activation_77[0][0]              \n",
            "__________________________________________________________________________________________________\n",
            "conv2d_79 (Conv2D)              (None, None, None, 3 442368      activation_77[0][0]              \n",
            "__________________________________________________________________________________________________\n",
            "conv2d_82 (Conv2D)              (None, None, None, 3 442368      activation_81[0][0]              \n",
            "__________________________________________________________________________________________________\n",
            "conv2d_83 (Conv2D)              (None, None, None, 3 442368      activation_81[0][0]              \n",
            "__________________________________________________________________________________________________\n",
            "average_pooling2d_7 (AveragePoo (None, None, None, 1 0           mixed8[0][0]                     \n",
            "__________________________________________________________________________________________________\n",
            "conv2d_76 (Conv2D)              (None, None, None, 3 409600      mixed8[0][0]                     \n",
            "__________________________________________________________________________________________________\n",
            "batch_normalization_78 (BatchNo (None, None, None, 3 1152        conv2d_78[0][0]                  \n",
            "__________________________________________________________________________________________________\n",
            "batch_normalization_79 (BatchNo (None, None, None, 3 1152        conv2d_79[0][0]                  \n",
            "__________________________________________________________________________________________________\n",
            "batch_normalization_82 (BatchNo (None, None, None, 3 1152        conv2d_82[0][0]                  \n",
            "__________________________________________________________________________________________________\n",
            "batch_normalization_83 (BatchNo (None, None, None, 3 1152        conv2d_83[0][0]                  \n",
            "__________________________________________________________________________________________________\n",
            "conv2d_84 (Conv2D)              (None, None, None, 1 245760      average_pooling2d_7[0][0]        \n",
            "__________________________________________________________________________________________________\n",
            "batch_normalization_76 (BatchNo (None, None, None, 3 960         conv2d_76[0][0]                  \n",
            "__________________________________________________________________________________________________\n",
            "activation_78 (Activation)      (None, None, None, 3 0           batch_normalization_78[0][0]     \n",
            "__________________________________________________________________________________________________\n",
            "activation_79 (Activation)      (None, None, None, 3 0           batch_normalization_79[0][0]     \n",
            "__________________________________________________________________________________________________\n",
            "activation_82 (Activation)      (None, None, None, 3 0           batch_normalization_82[0][0]     \n",
            "__________________________________________________________________________________________________\n",
            "activation_83 (Activation)      (None, None, None, 3 0           batch_normalization_83[0][0]     \n",
            "__________________________________________________________________________________________________\n",
            "batch_normalization_84 (BatchNo (None, None, None, 1 576         conv2d_84[0][0]                  \n",
            "__________________________________________________________________________________________________\n",
            "activation_76 (Activation)      (None, None, None, 3 0           batch_normalization_76[0][0]     \n",
            "__________________________________________________________________________________________________\n",
            "mixed9_0 (Concatenate)          (None, None, None, 7 0           activation_78[0][0]              \n",
            "                                                                 activation_79[0][0]              \n",
            "__________________________________________________________________________________________________\n",
            "concatenate (Concatenate)       (None, None, None, 7 0           activation_82[0][0]              \n",
            "                                                                 activation_83[0][0]              \n",
            "__________________________________________________________________________________________________\n",
            "activation_84 (Activation)      (None, None, None, 1 0           batch_normalization_84[0][0]     \n",
            "__________________________________________________________________________________________________\n",
            "mixed9 (Concatenate)            (None, None, None, 2 0           activation_76[0][0]              \n",
            "                                                                 mixed9_0[0][0]                   \n",
            "                                                                 concatenate[0][0]                \n",
            "                                                                 activation_84[0][0]              \n",
            "__________________________________________________________________________________________________\n",
            "conv2d_89 (Conv2D)              (None, None, None, 4 917504      mixed9[0][0]                     \n",
            "__________________________________________________________________________________________________\n",
            "batch_normalization_89 (BatchNo (None, None, None, 4 1344        conv2d_89[0][0]                  \n",
            "__________________________________________________________________________________________________\n",
            "activation_89 (Activation)      (None, None, None, 4 0           batch_normalization_89[0][0]     \n",
            "__________________________________________________________________________________________________\n",
            "conv2d_86 (Conv2D)              (None, None, None, 3 786432      mixed9[0][0]                     \n",
            "__________________________________________________________________________________________________\n",
            "conv2d_90 (Conv2D)              (None, None, None, 3 1548288     activation_89[0][0]              \n",
            "__________________________________________________________________________________________________\n",
            "batch_normalization_86 (BatchNo (None, None, None, 3 1152        conv2d_86[0][0]                  \n",
            "__________________________________________________________________________________________________\n",
            "batch_normalization_90 (BatchNo (None, None, None, 3 1152        conv2d_90[0][0]                  \n",
            "__________________________________________________________________________________________________\n",
            "activation_86 (Activation)      (None, None, None, 3 0           batch_normalization_86[0][0]     \n",
            "__________________________________________________________________________________________________\n",
            "activation_90 (Activation)      (None, None, None, 3 0           batch_normalization_90[0][0]     \n",
            "__________________________________________________________________________________________________\n",
            "conv2d_87 (Conv2D)              (None, None, None, 3 442368      activation_86[0][0]              \n",
            "__________________________________________________________________________________________________\n",
            "conv2d_88 (Conv2D)              (None, None, None, 3 442368      activation_86[0][0]              \n",
            "__________________________________________________________________________________________________\n",
            "conv2d_91 (Conv2D)              (None, None, None, 3 442368      activation_90[0][0]              \n",
            "__________________________________________________________________________________________________\n",
            "conv2d_92 (Conv2D)              (None, None, None, 3 442368      activation_90[0][0]              \n",
            "__________________________________________________________________________________________________\n",
            "average_pooling2d_8 (AveragePoo (None, None, None, 2 0           mixed9[0][0]                     \n",
            "__________________________________________________________________________________________________\n",
            "conv2d_85 (Conv2D)              (None, None, None, 3 655360      mixed9[0][0]                     \n",
            "__________________________________________________________________________________________________\n",
            "batch_normalization_87 (BatchNo (None, None, None, 3 1152        conv2d_87[0][0]                  \n",
            "__________________________________________________________________________________________________\n",
            "batch_normalization_88 (BatchNo (None, None, None, 3 1152        conv2d_88[0][0]                  \n",
            "__________________________________________________________________________________________________\n",
            "batch_normalization_91 (BatchNo (None, None, None, 3 1152        conv2d_91[0][0]                  \n",
            "__________________________________________________________________________________________________\n",
            "batch_normalization_92 (BatchNo (None, None, None, 3 1152        conv2d_92[0][0]                  \n",
            "__________________________________________________________________________________________________\n",
            "conv2d_93 (Conv2D)              (None, None, None, 1 393216      average_pooling2d_8[0][0]        \n",
            "__________________________________________________________________________________________________\n",
            "batch_normalization_85 (BatchNo (None, None, None, 3 960         conv2d_85[0][0]                  \n",
            "__________________________________________________________________________________________________\n",
            "activation_87 (Activation)      (None, None, None, 3 0           batch_normalization_87[0][0]     \n",
            "__________________________________________________________________________________________________\n",
            "activation_88 (Activation)      (None, None, None, 3 0           batch_normalization_88[0][0]     \n",
            "__________________________________________________________________________________________________\n",
            "activation_91 (Activation)      (None, None, None, 3 0           batch_normalization_91[0][0]     \n",
            "__________________________________________________________________________________________________\n",
            "activation_92 (Activation)      (None, None, None, 3 0           batch_normalization_92[0][0]     \n",
            "__________________________________________________________________________________________________\n",
            "batch_normalization_93 (BatchNo (None, None, None, 1 576         conv2d_93[0][0]                  \n",
            "__________________________________________________________________________________________________\n",
            "activation_85 (Activation)      (None, None, None, 3 0           batch_normalization_85[0][0]     \n",
            "__________________________________________________________________________________________________\n",
            "mixed9_1 (Concatenate)          (None, None, None, 7 0           activation_87[0][0]              \n",
            "                                                                 activation_88[0][0]              \n",
            "__________________________________________________________________________________________________\n",
            "concatenate_1 (Concatenate)     (None, None, None, 7 0           activation_91[0][0]              \n",
            "                                                                 activation_92[0][0]              \n",
            "__________________________________________________________________________________________________\n",
            "activation_93 (Activation)      (None, None, None, 1 0           batch_normalization_93[0][0]     \n",
            "__________________________________________________________________________________________________\n",
            "mixed10 (Concatenate)           (None, None, None, 2 0           activation_85[0][0]              \n",
            "                                                                 mixed9_1[0][0]                   \n",
            "                                                                 concatenate_1[0][0]              \n",
            "                                                                 activation_93[0][0]              \n",
            "==================================================================================================\n",
            "Total params: 21,802,784\n",
            "Trainable params: 21,768,352\n",
            "Non-trainable params: 34,432\n",
            "__________________________________________________________________________________________________\n"
          ],
          "name": "stdout"
        }
      ]
    },
    {
      "cell_type": "code",
      "metadata": {
        "id": "Bf60bK6cLTYS"
      },
      "source": [
        "x = base_model.output\n",
        "x = GlobalAveragePooling2D()(x)\n",
        "\n",
        "x = Dense(1024, activation='relu')(x)\n",
        "\n",
        "predictions = Dense(num_classes, activation='softmax')(x)"
      ],
      "execution_count": null,
      "outputs": []
    },
    {
      "cell_type": "code",
      "metadata": {
        "id": "fRt494-yLX6c"
      },
      "source": [
        "model = Model(inputs=base_model.input, outputs=predictions)"
      ],
      "execution_count": null,
      "outputs": []
    },
    {
      "cell_type": "code",
      "metadata": {
        "id": "5sJ-YVQILavo",
        "outputId": "2ee08331-b651-4307-d310-0dcda9261c5c",
        "colab": {
          "base_uri": "https://localhost:8080/",
          "height": 1687
        }
      },
      "source": [
        "for layer in base_model.layers:\n",
        "    if 'batch' in layer.name:\n",
        "      print(layer.name)\n",
        "      layer.trainable = True\n",
        "    else:\n",
        "      layer.trainable = False"
      ],
      "execution_count": null,
      "outputs": [
        {
          "output_type": "stream",
          "text": [
            "batch_normalization\n",
            "batch_normalization_1\n",
            "batch_normalization_2\n",
            "batch_normalization_3\n",
            "batch_normalization_4\n",
            "batch_normalization_8\n",
            "batch_normalization_6\n",
            "batch_normalization_9\n",
            "batch_normalization_5\n",
            "batch_normalization_7\n",
            "batch_normalization_10\n",
            "batch_normalization_11\n",
            "batch_normalization_15\n",
            "batch_normalization_13\n",
            "batch_normalization_16\n",
            "batch_normalization_12\n",
            "batch_normalization_14\n",
            "batch_normalization_17\n",
            "batch_normalization_18\n",
            "batch_normalization_22\n",
            "batch_normalization_20\n",
            "batch_normalization_23\n",
            "batch_normalization_19\n",
            "batch_normalization_21\n",
            "batch_normalization_24\n",
            "batch_normalization_25\n",
            "batch_normalization_27\n",
            "batch_normalization_28\n",
            "batch_normalization_26\n",
            "batch_normalization_29\n",
            "batch_normalization_34\n",
            "batch_normalization_35\n",
            "batch_normalization_31\n",
            "batch_normalization_36\n",
            "batch_normalization_32\n",
            "batch_normalization_37\n",
            "batch_normalization_30\n",
            "batch_normalization_33\n",
            "batch_normalization_38\n",
            "batch_normalization_39\n",
            "batch_normalization_44\n",
            "batch_normalization_45\n",
            "batch_normalization_41\n",
            "batch_normalization_46\n",
            "batch_normalization_42\n",
            "batch_normalization_47\n",
            "batch_normalization_40\n",
            "batch_normalization_43\n",
            "batch_normalization_48\n",
            "batch_normalization_49\n",
            "batch_normalization_54\n",
            "batch_normalization_55\n",
            "batch_normalization_51\n",
            "batch_normalization_56\n",
            "batch_normalization_52\n",
            "batch_normalization_57\n",
            "batch_normalization_50\n",
            "batch_normalization_53\n",
            "batch_normalization_58\n",
            "batch_normalization_59\n",
            "batch_normalization_64\n",
            "batch_normalization_65\n",
            "batch_normalization_61\n",
            "batch_normalization_66\n",
            "batch_normalization_62\n",
            "batch_normalization_67\n",
            "batch_normalization_60\n",
            "batch_normalization_63\n",
            "batch_normalization_68\n",
            "batch_normalization_69\n",
            "batch_normalization_72\n",
            "batch_normalization_73\n",
            "batch_normalization_70\n",
            "batch_normalization_74\n",
            "batch_normalization_71\n",
            "batch_normalization_75\n",
            "batch_normalization_80\n",
            "batch_normalization_77\n",
            "batch_normalization_81\n",
            "batch_normalization_78\n",
            "batch_normalization_79\n",
            "batch_normalization_82\n",
            "batch_normalization_83\n",
            "batch_normalization_76\n",
            "batch_normalization_84\n",
            "batch_normalization_89\n",
            "batch_normalization_86\n",
            "batch_normalization_90\n",
            "batch_normalization_87\n",
            "batch_normalization_88\n",
            "batch_normalization_91\n",
            "batch_normalization_92\n",
            "batch_normalization_85\n",
            "batch_normalization_93\n"
          ],
          "name": "stdout"
        }
      ]
    },
    {
      "cell_type": "code",
      "metadata": {
        "id": "q-eqF0KpLeUz"
      },
      "source": [
        "for layer in model.layers:\n",
        "    print(layer.name)\n",
        "    print(layer.trainable)"
      ],
      "execution_count": null,
      "outputs": []
    },
    {
      "cell_type": "code",
      "metadata": {
        "id": "zecijRuzLidm"
      },
      "source": [
        "opt = optimizers.Adam(lr)"
      ],
      "execution_count": null,
      "outputs": []
    },
    {
      "cell_type": "code",
      "metadata": {
        "id": "QUR0934NLnTZ"
      },
      "source": [
        "model.compile(optimizer= opt, loss='categorical_crossentropy',metrics=['accuracy'])"
      ],
      "execution_count": null,
      "outputs": []
    },
    {
      "cell_type": "code",
      "metadata": {
        "id": "tDdk_Dn_LsLi"
      },
      "source": [
        "!mkdir checkpoints\n",
        "\n",
        "\n",
        "checkpoint = ModelCheckpoint('./checkpoints/weights_{epoch:02d}_{val_acc:.2f}.hdf5', verbose=1, save_best_only=True, mode='auto')"
      ],
      "execution_count": null,
      "outputs": []
    },
    {
      "cell_type": "code",
      "metadata": {
        "id": "mWOPjgHZLxOb"
      },
      "source": [
        "train_steps = 100\n",
        "val_steps = 50\n",
        "epochs = 5"
      ],
      "execution_count": null,
      "outputs": []
    },
    {
      "cell_type": "code",
      "metadata": {
        "id": "5kUSYRMZLyB2",
        "outputId": "c45743a4-690f-4472-ffbb-1d69f907b385",
        "colab": {
          "base_uri": "https://localhost:8080/",
          "height": 372
        }
      },
      "source": [
        "history = model.fit( train_dataset, steps_per_epoch = train_steps,\n",
        "                   epochs = epochs,\n",
        "                   validation_data = valid_dataset,\n",
        "                   validation_steps = val_steps,\n",
        "                   callbacks=[checkpoint])"
      ],
      "execution_count": null,
      "outputs": [
        {
          "output_type": "stream",
          "text": [
            "Epoch 1/5\n",
            " 99/100 [============================>.] - ETA: 0s - loss: 0.8061 - acc: 0.7282\n",
            "Epoch 00001: val_loss improved from inf to 0.42642, saving model to ./checkpoints/weights_01_0.85.hdf5\n",
            "100/100 [==============================] - 148s 1s/step - loss: 0.8015 - acc: 0.7291 - val_loss: 0.4264 - val_acc: 0.8519\n",
            "Epoch 2/5\n",
            " 99/100 [============================>.] - ETA: 0s - loss: 0.3403 - acc: 0.8782\n",
            "Epoch 00002: val_loss improved from 0.42642 to 0.37790, saving model to ./checkpoints/weights_02_0.87.hdf5\n",
            "100/100 [==============================] - 105s 1s/step - loss: 0.3388 - acc: 0.8791 - val_loss: 0.3779 - val_acc: 0.8669\n",
            "Epoch 3/5\n",
            " 99/100 [============================>.] - ETA: 0s - loss: 0.2882 - acc: 0.8955\n",
            "Epoch 00003: val_loss improved from 0.37790 to 0.30995, saving model to ./checkpoints/weights_03_0.90.hdf5\n",
            "100/100 [==============================] - 105s 1s/step - loss: 0.2872 - acc: 0.8959 - val_loss: 0.3099 - val_acc: 0.8975\n",
            "Epoch 4/5\n",
            " 99/100 [============================>.] - ETA: 0s - loss: 0.2173 - acc: 0.9227\n",
            "Epoch 00004: val_loss improved from 0.30995 to 0.28365, saving model to ./checkpoints/weights_04_0.90.hdf5\n",
            "100/100 [==============================] - 105s 1s/step - loss: 0.2162 - acc: 0.9231 - val_loss: 0.2836 - val_acc: 0.8956\n",
            "Epoch 5/5\n",
            " 99/100 [============================>.] - ETA: 0s - loss: 0.1635 - acc: 0.9403\n",
            "Epoch 00005: val_loss did not improve from 0.28365\n",
            "100/100 [==============================] - 103s 1s/step - loss: 0.1635 - acc: 0.9406 - val_loss: 0.3434 - val_acc: 0.8869\n"
          ],
          "name": "stdout"
        }
      ]
    },
    {
      "cell_type": "code",
      "metadata": {
        "id": "1fcxhLCBL7tb",
        "outputId": "b8008ccc-f69c-4f7a-a4be-0792547542fb",
        "colab": {
          "base_uri": "https://localhost:8080/",
          "height": 372
        }
      },
      "source": [
        "history = model.fit( train_dataset, steps_per_epoch = train_steps,\n",
        "                   epochs = epochs,\n",
        "                   validation_data = valid_dataset,\n",
        "                   validation_steps = val_steps,\n",
        "                   callbacks=[checkpoint])"
      ],
      "execution_count": null,
      "outputs": [
        {
          "output_type": "stream",
          "text": [
            "Epoch 1/5\n",
            " 99/100 [============================>.] - ETA: 0s - loss: 0.1059 - acc: 0.9624\n",
            "Epoch 00001: val_loss improved from 0.28365 to 0.28215, saving model to ./checkpoints/weights_01_0.92.hdf5\n",
            "100/100 [==============================] - 105s 1s/step - loss: 0.1067 - acc: 0.9622 - val_loss: 0.2822 - val_acc: 0.9156\n",
            "Epoch 2/5\n",
            " 99/100 [============================>.] - ETA: 0s - loss: 0.0903 - acc: 0.9684\n",
            "Epoch 00002: val_loss did not improve from 0.28215\n",
            "100/100 [==============================] - 104s 1s/step - loss: 0.0896 - acc: 0.9688 - val_loss: 0.2829 - val_acc: 0.9175\n",
            "Epoch 3/5\n",
            " 99/100 [============================>.] - ETA: 0s - loss: 0.0617 - acc: 0.9807\n",
            "Epoch 00003: val_loss did not improve from 0.28215\n",
            "100/100 [==============================] - 104s 1s/step - loss: 0.0630 - acc: 0.9803 - val_loss: 0.4172 - val_acc: 0.9025\n",
            "Epoch 4/5\n",
            " 99/100 [============================>.] - ETA: 0s - loss: 0.0376 - acc: 0.9874\n",
            "Epoch 00004: val_loss did not improve from 0.28215\n",
            "100/100 [==============================] - 104s 1s/step - loss: 0.0377 - acc: 0.9872 - val_loss: 0.5855 - val_acc: 0.8744\n",
            "Epoch 5/5\n",
            " 99/100 [============================>.] - ETA: 0s - loss: 0.0278 - acc: 0.9921\n",
            "Epoch 00005: val_loss did not improve from 0.28215\n",
            "100/100 [==============================] - 104s 1s/step - loss: 0.0275 - acc: 0.9922 - val_loss: 0.3033 - val_acc: 0.9169\n"
          ],
          "name": "stdout"
        }
      ]
    },
    {
      "cell_type": "code",
      "metadata": {
        "id": "dmEIbTtCL82Z",
        "outputId": "f5480276-078b-43b7-f129-d9833514521a",
        "colab": {
          "base_uri": "https://localhost:8080/",
          "height": 52
        }
      },
      "source": [
        "!ls checkpoints"
      ],
      "execution_count": null,
      "outputs": [
        {
          "output_type": "stream",
          "text": [
            "weights_01_0.85.hdf5  weights_02_0.87.hdf5  weights_04_0.90.hdf5\n",
            "weights_01_0.92.hdf5  weights_03_0.90.hdf5\n"
          ],
          "name": "stdout"
        }
      ]
    },
    {
      "cell_type": "code",
      "metadata": {
        "id": "O7QGLEjzL_oX",
        "outputId": "7fca7415-69d9-40cb-d635-084611fc5734",
        "colab": {
          "base_uri": "https://localhost:8080/"
        }
      },
      "source": [
        "model.load_weights('./checkpoints/weights_02_0.91.hdf5')"
      ],
      "execution_count": null,
      "outputs": [
        {
          "output_type": "error",
          "ename": "NotFoundError",
          "evalue": "ignored",
          "traceback": [
            "\u001b[0;31m---------------------------------------------------------------------------\u001b[0m",
            "\u001b[0;31mNotFoundError\u001b[0m                             Traceback (most recent call last)",
            "\u001b[0;32m<ipython-input-46-abd203b894a6>\u001b[0m in \u001b[0;36m<module>\u001b[0;34m()\u001b[0m\n\u001b[0;32m----> 1\u001b[0;31m \u001b[0mmodel\u001b[0m\u001b[0;34m.\u001b[0m\u001b[0mload_weights\u001b[0m\u001b[0;34m(\u001b[0m\u001b[0;34m'./checkpoints/weights_02_0.91.hdf5'\u001b[0m\u001b[0;34m)\u001b[0m\u001b[0;34m\u001b[0m\u001b[0;34m\u001b[0m\u001b[0m\n\u001b[0m",
            "\u001b[0;32m/usr/local/lib/python3.6/dist-packages/tensorflow/python/keras/engine/network.py\u001b[0m in \u001b[0;36mload_weights\u001b[0;34m(self, filepath, by_name)\u001b[0m\n\u001b[1;32m   1510\u001b[0m     \u001b[0;32melse\u001b[0m\u001b[0;34m:\u001b[0m\u001b[0;34m\u001b[0m\u001b[0;34m\u001b[0m\u001b[0m\n\u001b[1;32m   1511\u001b[0m       \u001b[0;32mtry\u001b[0m\u001b[0;34m:\u001b[0m\u001b[0;34m\u001b[0m\u001b[0;34m\u001b[0m\u001b[0m\n\u001b[0;32m-> 1512\u001b[0;31m         \u001b[0mpywrap_tensorflow\u001b[0m\u001b[0;34m.\u001b[0m\u001b[0mNewCheckpointReader\u001b[0m\u001b[0;34m(\u001b[0m\u001b[0mfilepath\u001b[0m\u001b[0;34m)\u001b[0m\u001b[0;34m\u001b[0m\u001b[0;34m\u001b[0m\u001b[0m\n\u001b[0m\u001b[1;32m   1513\u001b[0m         \u001b[0msave_format\u001b[0m \u001b[0;34m=\u001b[0m \u001b[0;34m'tf'\u001b[0m\u001b[0;34m\u001b[0m\u001b[0;34m\u001b[0m\u001b[0m\n\u001b[1;32m   1514\u001b[0m       \u001b[0;32mexcept\u001b[0m \u001b[0merrors_impl\u001b[0m\u001b[0;34m.\u001b[0m\u001b[0mDataLossError\u001b[0m\u001b[0;34m:\u001b[0m\u001b[0;34m\u001b[0m\u001b[0;34m\u001b[0m\u001b[0m\n",
            "\u001b[0;32m/usr/local/lib/python3.6/dist-packages/tensorflow/python/pywrap_tensorflow_internal.py\u001b[0m in \u001b[0;36mNewCheckpointReader\u001b[0;34m(filepattern)\u001b[0m\n\u001b[1;32m    324\u001b[0m   \u001b[0;32mwith\u001b[0m \u001b[0merrors\u001b[0m\u001b[0;34m.\u001b[0m\u001b[0mraise_exception_on_not_ok_status\u001b[0m\u001b[0;34m(\u001b[0m\u001b[0;34m)\u001b[0m \u001b[0;32mas\u001b[0m \u001b[0mstatus\u001b[0m\u001b[0;34m:\u001b[0m\u001b[0;34m\u001b[0m\u001b[0;34m\u001b[0m\u001b[0m\n\u001b[1;32m    325\u001b[0m     \u001b[0;32mfrom\u001b[0m \u001b[0mtensorflow\u001b[0m\u001b[0;34m.\u001b[0m\u001b[0mpython\u001b[0m\u001b[0;34m.\u001b[0m\u001b[0mutil\u001b[0m \u001b[0;32mimport\u001b[0m \u001b[0mcompat\u001b[0m\u001b[0;34m\u001b[0m\u001b[0;34m\u001b[0m\u001b[0m\n\u001b[0;32m--> 326\u001b[0;31m     \u001b[0;32mreturn\u001b[0m \u001b[0mCheckpointReader\u001b[0m\u001b[0;34m(\u001b[0m\u001b[0mcompat\u001b[0m\u001b[0;34m.\u001b[0m\u001b[0mas_bytes\u001b[0m\u001b[0;34m(\u001b[0m\u001b[0mfilepattern\u001b[0m\u001b[0;34m)\u001b[0m\u001b[0;34m,\u001b[0m \u001b[0mstatus\u001b[0m\u001b[0;34m)\u001b[0m\u001b[0;34m\u001b[0m\u001b[0;34m\u001b[0m\u001b[0m\n\u001b[0m\u001b[1;32m    327\u001b[0m \u001b[0;34m\u001b[0m\u001b[0m\n\u001b[1;32m    328\u001b[0m \u001b[0mNewCheckpointReader\u001b[0m\u001b[0;34m.\u001b[0m\u001b[0m_tf_api_names\u001b[0m \u001b[0;34m=\u001b[0m \u001b[0;34m[\u001b[0m\u001b[0;34m'train.NewCheckpointReader'\u001b[0m\u001b[0;34m]\u001b[0m\u001b[0;34m\u001b[0m\u001b[0;34m\u001b[0m\u001b[0m\n",
            "\u001b[0;32m/usr/local/lib/python3.6/dist-packages/tensorflow/python/framework/errors_impl.py\u001b[0m in \u001b[0;36m__exit__\u001b[0;34m(self, type_arg, value_arg, traceback_arg)\u001b[0m\n\u001b[1;32m    526\u001b[0m             \u001b[0;32mNone\u001b[0m\u001b[0;34m,\u001b[0m \u001b[0;32mNone\u001b[0m\u001b[0;34m,\u001b[0m\u001b[0;34m\u001b[0m\u001b[0;34m\u001b[0m\u001b[0m\n\u001b[1;32m    527\u001b[0m             \u001b[0mcompat\u001b[0m\u001b[0;34m.\u001b[0m\u001b[0mas_text\u001b[0m\u001b[0;34m(\u001b[0m\u001b[0mc_api\u001b[0m\u001b[0;34m.\u001b[0m\u001b[0mTF_Message\u001b[0m\u001b[0;34m(\u001b[0m\u001b[0mself\u001b[0m\u001b[0;34m.\u001b[0m\u001b[0mstatus\u001b[0m\u001b[0;34m.\u001b[0m\u001b[0mstatus\u001b[0m\u001b[0;34m)\u001b[0m\u001b[0;34m)\u001b[0m\u001b[0;34m,\u001b[0m\u001b[0;34m\u001b[0m\u001b[0;34m\u001b[0m\u001b[0m\n\u001b[0;32m--> 528\u001b[0;31m             c_api.TF_GetCode(self.status.status))\n\u001b[0m\u001b[1;32m    529\u001b[0m     \u001b[0;31m# Delete the underlying status object from memory otherwise it stays alive\u001b[0m\u001b[0;34m\u001b[0m\u001b[0;34m\u001b[0m\u001b[0;34m\u001b[0m\u001b[0m\n\u001b[1;32m    530\u001b[0m     \u001b[0;31m# as there is a reference to status from this from the traceback due to\u001b[0m\u001b[0;34m\u001b[0m\u001b[0;34m\u001b[0m\u001b[0;34m\u001b[0m\u001b[0m\n",
            "\u001b[0;31mNotFoundError\u001b[0m: Unsuccessful TensorSliceReader constructor: Failed to find any matching files for ./checkpoints/weights_02_0.91.hdf5"
          ]
        }
      ]
    },
    {
      "cell_type": "code",
      "metadata": {
        "id": "GkOk_7p-MBSZ",
        "outputId": "2b74c99a-7b1c-4dbb-ebdb-bccbc2a9b7a1",
        "colab": {
          "base_uri": "https://localhost:8080/"
        }
      },
      "source": [
        "metrics = model.evaluate(valid_dataset,steps=50)\n",
        "print(\"model accuracy:\",metrics[1])"
      ],
      "execution_count": null,
      "outputs": [
        {
          "output_type": "stream",
          "text": [
            "50/50 [==============================] - 19s 378ms/step\n",
            "model accuracy: 0.915625\n"
          ],
          "name": "stdout"
        }
      ]
    },
    {
      "cell_type": "code",
      "metadata": {
        "id": "QZp4lHCfQ3fP",
        "outputId": "4655a3ea-5029-4e2d-fd6a-ad560adf399c",
        "colab": {
          "base_uri": "https://localhost:8080/",
          "height": 52
        }
      },
      "source": [
        "metrics = model.evaluate(valid_dataset,steps=50)\n",
        "print(\"model accuracy:\",metrics[1])"
      ],
      "execution_count": null,
      "outputs": [
        {
          "output_type": "stream",
          "text": [
            "50/50 [==============================] - 19s 376ms/step\n",
            "model accuracy: 0.915625\n"
          ],
          "name": "stdout"
        }
      ]
    },
    {
      "cell_type": "code",
      "metadata": {
        "id": "XLgDddfeMDCd",
        "outputId": "7d5151c3-1408-4ae4-aea7-b13bfdbabbd3",
        "colab": {
          "base_uri": "https://localhost:8080/",
          "height": 34
        }
      },
      "source": [
        "preds = model.predict(test_dataset,steps=10)\n",
        "preds = preds.argmax(axis=-1)\n",
        "\n",
        "preds.shape"
      ],
      "execution_count": null,
      "outputs": [
        {
          "output_type": "execute_result",
          "data": {
            "text/plain": [
              "(320,)"
            ]
          },
          "metadata": {
            "tags": []
          },
          "execution_count": 45
        }
      ]
    },
    {
      "cell_type": "code",
      "metadata": {
        "id": "W-biB5dFMEuC"
      },
      "source": [
        "test_labels = val_labels_list[0:320]"
      ],
      "execution_count": null,
      "outputs": []
    },
    {
      "cell_type": "code",
      "metadata": {
        "id": "-RZTpQTUMGQL"
      },
      "source": [
        "len(test_labels)"
      ],
      "execution_count": null,
      "outputs": []
    },
    {
      "cell_type": "code",
      "metadata": {
        "id": "o2Q6b7rDMH1f"
      },
      "source": [
        "from sklearn.metrics import confusion_matrix\n",
        "import itertools\n",
        "\n",
        "cm = confusion_matrix(test_labels,preds)"
      ],
      "execution_count": null,
      "outputs": []
    },
    {
      "cell_type": "code",
      "metadata": {
        "id": "9sn_yJoSMJo-"
      },
      "source": [
        "def plot_confusion_matrix(cm, classes,\n",
        "                          normalize=False,\n",
        "                          title='Confusion matrix',\n",
        "                          cmap=plt.cm.Blues):\n",
        "    \"\"\"\n",
        "    This function prints and plots the confusion matrix.\n",
        "    Normalization can be applied by setting `normalize=True`.\n",
        "    \"\"\"\n",
        "    if normalize:\n",
        "        cm = cm.astype('float') / cm.sum(axis=1)[:, np.newaxis]\n",
        "        print(\"Normalized confusion matrix\")\n",
        "    else:\n",
        "        print('Confusion matrix, without normalization')\n",
        "\n",
        "    print(cm)\n",
        "\n",
        "    plt.imshow(cm, interpolation='nearest', cmap=cmap)\n",
        "    plt.title(title)\n",
        "    plt.colorbar()\n",
        "    tick_marks = np.arange(len(classes))\n",
        "    plt.xticks(tick_marks, classes, rotation=45)\n",
        "    plt.yticks(tick_marks, classes)\n",
        "\n",
        "    fmt = '.2f' if normalize else 'd'\n",
        "    thresh = cm.max() / 2.\n",
        "    for i, j in itertools.product(range(cm.shape[0]), range(cm.shape[1])):\n",
        "        plt.text(j, i, format(cm[i, j], fmt),\n",
        "                 horizontalalignment=\"center\",\n",
        "                 color=\"white\" if cm[i, j] > thresh else \"black\")\n",
        "\n",
        "    plt.tight_layout()\n",
        "    plt.ylabel('True label')\n",
        "    plt.xlabel('Predicted label')\n"
      ],
      "execution_count": null,
      "outputs": []
    },
    {
      "cell_type": "code",
      "metadata": {
        "id": "s7NgdUVHMKv5"
      },
      "source": [
        "cm_plot_labels = names\n",
        "\n",
        "# # Plot normalized confusion matrix\n",
        "plt.figure(figsize=(16,8))\n",
        "plot_confusion_matrix(cm, cm_plot_labels, normalize=True,\n",
        "                      title='Flowers Normalized')\n",
        "\n",
        "plt.show()"
      ],
      "execution_count": null,
      "outputs": []
    },
    {
      "cell_type": "code",
      "metadata": {
        "id": "_g3n6bhfMNc5"
      },
      "source": [
        "model.save('flowers.h5')"
      ],
      "execution_count": null,
      "outputs": []
    },
    {
      "cell_type": "code",
      "metadata": {
        "id": "3RUtGyXMMPKu"
      },
      "source": [
        "model.save_weights('flowers_weights.h5', save_format='h5')"
      ],
      "execution_count": null,
      "outputs": []
    },
    {
      "cell_type": "code",
      "metadata": {
        "id": "l7DrntJNMQZB"
      },
      "source": [
        "!ls"
      ],
      "execution_count": null,
      "outputs": []
    },
    {
      "cell_type": "code",
      "metadata": {
        "id": "GpIhnWGFMSOV"
      },
      "source": [
        "model.save_weights('./flowers_tf')"
      ],
      "execution_count": null,
      "outputs": []
    },
    {
      "cell_type": "code",
      "metadata": {
        "id": "-j62s9G5MTsW"
      },
      "source": [
        "!ls"
      ],
      "execution_count": null,
      "outputs": []
    },
    {
      "cell_type": "code",
      "metadata": {
        "id": "psY-Z85hMVqT"
      },
      "source": [
        "!wget -qq https://www.dropbox.com/s/iupwkbumwldk9es/testing_flowers.zip\n",
        "\n",
        "\n",
        "!unzip -qq testing_flowers.zip\n",
        "!rm testing_flowers.zip\n",
        "\n",
        "\n",
        "\n",
        "!ls"
      ],
      "execution_count": null,
      "outputs": []
    },
    {
      "cell_type": "code",
      "metadata": {
        "id": "iGh4r2iFMWax"
      },
      "source": [
        "!ls testing_flowers"
      ],
      "execution_count": null,
      "outputs": []
    },
    {
      "cell_type": "code",
      "metadata": {
        "id": "SvMqkl1xMYBD"
      },
      "source": [
        "image_path = './testing_flowers/'"
      ],
      "execution_count": null,
      "outputs": []
    },
    {
      "cell_type": "code",
      "metadata": {
        "id": "6q3Ia2r3MZt2"
      },
      "source": [
        "from IPython.display import Image\n",
        "\n",
        "image_name = 'sunflower02.jpg'\n",
        "Image(image_path+image_name)"
      ],
      "execution_count": null,
      "outputs": []
    },
    {
      "cell_type": "code",
      "metadata": {
        "id": "pn8tiyeJMbvF"
      },
      "source": [
        "from keras.preprocessing import image\n",
        "from keras.applications.imagenet_utils import preprocess_input, decode_predictions\n",
        "import numpy as np\n",
        "\n",
        "img_path = os.path.join(image_path, image_name)\n",
        "img = image.load_img(img_path, target_size=(299, 299))\n",
        "x = image.img_to_array(img)\n",
        "x = np.expand_dims(x, axis=0)\n",
        "# x = preprocess_input(x)\n",
        "print('Input image shape:', x.shape)"
      ],
      "execution_count": null,
      "outputs": []
    },
    {
      "cell_type": "code",
      "metadata": {
        "id": "1jE0ShNjMd8x"
      },
      "source": [
        "pred = model.predict(x)\n",
        "print('Predicted:', pred)\n",
        "\n",
        "print(np.argmax(pred))"
      ],
      "execution_count": null,
      "outputs": []
    },
    {
      "cell_type": "code",
      "metadata": {
        "id": "VSqFlgbZMfu_"
      },
      "source": [
        "result= np.argmax(pred)\n",
        "if result==0:\n",
        "    print(\"Its a Daisy\")\n",
        "elif result==1:\n",
        "    print(\"Its a Dandelion\")\n",
        "elif result==2:\n",
        "    print(\"Its a Rose\")\n",
        "elif result==3:\n",
        "    print(\"Its a Sunflower\")\n",
        "elif result==4:\n",
        "    print(\"Its a Tulip\")"
      ],
      "execution_count": null,
      "outputs": []
    },
    {
      "cell_type": "code",
      "metadata": {
        "id": "KAgkbOxIMiOR"
      },
      "source": [
        "names"
      ],
      "execution_count": null,
      "outputs": []
    },
    {
      "cell_type": "code",
      "metadata": {
        "id": "cBnNqD7kMj1b"
      },
      "source": [
        "from google.colab import files\n",
        "\n",
        "files.download('flowers.h5')"
      ],
      "execution_count": null,
      "outputs": []
    },
    {
      "cell_type": "code",
      "metadata": {
        "id": "P5SRclFJMlUm"
      },
      "source": [
        "files.download('flowers_weights.h5')"
      ],
      "execution_count": null,
      "outputs": []
    },
    {
      "cell_type": "code",
      "metadata": {
        "id": "dnjBzLBGMmx3"
      },
      "source": [
        "estimator = tf.keras.estimator.model_to_estimator(model)"
      ],
      "execution_count": null,
      "outputs": []
    },
    {
      "cell_type": "code",
      "metadata": {
        "id": "66I_ekLPMn8d"
      },
      "source": [
        "!kill -9 -1"
      ],
      "execution_count": null,
      "outputs": []
    }
  ]
}